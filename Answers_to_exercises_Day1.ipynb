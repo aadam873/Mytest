{
  "nbformat": 4,
  "nbformat_minor": 0,
  "metadata": {
    "colab": {
      "provenance": [],
      "include_colab_link": true
    },
    "kernelspec": {
      "name": "python3",
      "display_name": "Python 3"
    },
    "language_info": {
      "name": "python"
    }
  },
  "cells": [
    {
      "cell_type": "markdown",
      "metadata": {
        "id": "view-in-github",
        "colab_type": "text"
      },
      "source": [
        "<a href=\"https://colab.research.google.com/github/aadam873/Mytest/blob/master/Answers_to_exercises_Day1.ipynb\" target=\"_parent\"><img src=\"https://colab.research.google.com/assets/colab-badge.svg\" alt=\"Open In Colab\"/></a>"
      ]
    },
    {
      "cell_type": "markdown",
      "source": [
        "Acknowledgments/Credits: The material for this bootcamp is based on lectures from Univeristy of Maryland, College Park GRADMAP and Scientific Computing from Scratch 2022. "
      ],
      "metadata": {
        "id": "cM23xsn6lfW6"
      }
    },
    {
      "cell_type": "markdown",
      "source": [
        "## **Please make your own copy of this notebook before making changes!**"
      ],
      "metadata": {
        "id": "BsMdKSATpsRg"
      }
    },
    {
      "cell_type": "markdown",
      "source": [
        "## *Disclaimer*: These may not be the best solutions, but are just one example of something that works."
      ],
      "metadata": {
        "id": "7u5OzMrzqhSp"
      }
    },
    {
      "cell_type": "markdown",
      "source": [
        "## 6. Exercises\n",
        "<a id='excercises'></a>"
      ],
      "metadata": {
        "id": "26GPU4UTozpp"
      }
    },
    {
      "cell_type": "markdown",
      "source": [
        "1. Check if 'Python' is in the string 'Python is great!'."
      ],
      "metadata": {
        "id": "aM3T72S7o65Q"
      }
    },
    {
      "cell_type": "code",
      "source": [
        "'Python' in 'Python is great!'"
      ],
      "metadata": {
        "colab": {
          "base_uri": "https://localhost:8080/"
        },
        "id": "wgdJ2p6RSCV7",
        "outputId": "61e1e560-0a83-4673-b8ea-92aad069f44b"
      },
      "execution_count": null,
      "outputs": [
        {
          "output_type": "execute_result",
          "data": {
            "text/plain": [
              "True"
            ]
          },
          "metadata": {},
          "execution_count": 2
        }
      ]
    },
    {
      "cell_type": "markdown",
      "source": [
        "2. Get the last word 'great' from 'Python is great!'"
      ],
      "metadata": {
        "id": "JayngBOmo_e3"
      }
    },
    {
      "cell_type": "code",
      "source": [
        "test_string = 'Python is great!'\n",
        "print (test_string[10:15])"
      ],
      "metadata": {
        "colab": {
          "base_uri": "https://localhost:8080/"
        },
        "id": "SL7cPE0xSC2h",
        "outputId": "55c2d770-c7ca-4d9e-c150-e28197226fea"
      },
      "execution_count": null,
      "outputs": [
        {
          "output_type": "stream",
          "name": "stdout",
          "text": [
            "great\n"
          ]
        }
      ]
    },
    {
      "cell_type": "markdown",
      "source": [
        "3. Turn 'Python is great!' into a list."
      ],
      "metadata": {
        "id": "zVeUIOAUo_wU"
      }
    },
    {
      "cell_type": "code",
      "source": [
        "list(test_string)"
      ],
      "metadata": {
        "colab": {
          "base_uri": "https://localhost:8080/"
        },
        "id": "alA-hbLdSF9V",
        "outputId": "0feab8a2-c2d3-4ec6-e689-4a40ae62e0d4"
      },
      "execution_count": null,
      "outputs": [
        {
          "output_type": "execute_result",
          "data": {
            "text/plain": [
              "['P',\n",
              " 'y',\n",
              " 't',\n",
              " 'h',\n",
              " 'o',\n",
              " 'n',\n",
              " ' ',\n",
              " 'i',\n",
              " 's',\n",
              " ' ',\n",
              " 'g',\n",
              " 'r',\n",
              " 'e',\n",
              " 'a',\n",
              " 't',\n",
              " '!']"
            ]
          },
          "metadata": {},
          "execution_count": 3
        }
      ]
    },
    {
      "cell_type": "markdown",
      "source": [
        "4. Compute sin(87°)."
      ],
      "metadata": {
        "id": "oEUAItofpABW"
      }
    },
    {
      "cell_type": "code",
      "source": [
        "import math\n",
        "rad = math.radians(87)\n",
        "math.sin(rad)"
      ],
      "metadata": {
        "colab": {
          "base_uri": "https://localhost:8080/"
        },
        "id": "g8dddyZLSNlF",
        "outputId": "77602228-9769-48e8-b65b-631fdb598864"
      },
      "execution_count": null,
      "outputs": [
        {
          "output_type": "execute_result",
          "data": {
            "text/plain": [
              "0.9986295347545738"
            ]
          },
          "metadata": {},
          "execution_count": 6
        }
      ]
    },
    {
      "cell_type": "markdown",
      "source": [
        "5. Write a Python statement that generates the following error: \"TypeError:math.sin() takes exactly one argument (0 given)\"."
      ],
      "metadata": {
        "id": "mNi30TNzpAUs"
      }
    },
    {
      "cell_type": "code",
      "source": [
        "math.sin()"
      ],
      "metadata": {
        "id": "PsUKxPQdSOPa"
      },
      "execution_count": null,
      "outputs": []
    },
    {
      "cell_type": "markdown",
      "source": [
        "6. Compute the surface area and volume of a cylinder from given radius and height. Make it a function."
      ],
      "metadata": {
        "id": "iWBw3gp3pAkl"
      }
    },
    {
      "cell_type": "code",
      "source": [
        "def cylinder_properties(radius, height):\n",
        "  \"\"\"\n",
        "    This function computes the surface area and volume of a cylinder from a given radius and height\n",
        "    \n",
        "    Args: radius, height, the radius and height of the given cylinder\n",
        "\n",
        "    Returns: surf_area, vol, the surface area and volume of the cylinder\n",
        "  \"\"\"\n",
        "  surf_area = 2*math.pi*radius*height+2*math.pi*radius**2\n",
        "  vol = math.pi*height*radius**2\n",
        "  print (\"The surface area is: \" + str(surf_area))\n",
        "  print (\"The volume is: \" + str(vol))\n",
        "\n",
        "  return surf_area, vol"
      ],
      "metadata": {
        "id": "HlfZw9AISPe5"
      },
      "execution_count": null,
      "outputs": []
    },
    {
      "cell_type": "code",
      "source": [
        "cylinder_properties(1,2)"
      ],
      "metadata": {
        "colab": {
          "base_uri": "https://localhost:8080/"
        },
        "id": "uS6vwuTLSRZn",
        "outputId": "fd56e005-aea3-4f8c-e4a7-e2e5f6886290"
      },
      "execution_count": null,
      "outputs": [
        {
          "output_type": "stream",
          "name": "stdout",
          "text": [
            "The surface area is: 18.84955592153876\n",
            "The volume is: 6.283185307179586\n"
          ]
        },
        {
          "output_type": "execute_result",
          "data": {
            "text/plain": [
              "(18.84955592153876, 6.283185307179586)"
            ]
          },
          "metadata": {},
          "execution_count": 7
        }
      ]
    },
    {
      "cell_type": "markdown",
      "source": [
        "7. Compute the slope between two points $p1=(x_1,y_1)$ and $p_2=(x_2,y_2)$. Recall that the slope between two such points is \n",
        "$ \\frac{y_2−y_1}{x_2−x_1}$. Make it a function."
      ],
      "metadata": {
        "id": "bdw_r9ZLpB6Z"
      }
    },
    {
      "cell_type": "code",
      "source": [
        "def slope_calc(point1, point2):\n",
        "  \"\"\"\n",
        "    This function calculates the slope between two points\n",
        "\n",
        "    Args: point1, point2, lists of 2 numbers each\n",
        "\n",
        "    Returns: slope, the slope between the points\n",
        "  \"\"\"\n",
        "  if len(point1) == 2 and len(point2) == 2:\n",
        "    slope = (point2[1] - point1[1])/(point2[0]-point1[0])\n",
        "    return slope\n",
        "  else:\n",
        "    print(\"One of the points does not have 2 values\")\n",
        "    return None"
      ],
      "metadata": {
        "id": "GnaKgchiSXB7"
      },
      "execution_count": null,
      "outputs": []
    },
    {
      "cell_type": "code",
      "source": [
        "slope_calc((1,5), (2,9))"
      ],
      "metadata": {
        "colab": {
          "base_uri": "https://localhost:8080/"
        },
        "id": "4UBgSAsjSapq",
        "outputId": "3308861d-bafd-4b73-d4be-82e61cdc2829"
      },
      "execution_count": null,
      "outputs": [
        {
          "output_type": "execute_result",
          "data": {
            "text/plain": [
              "4.0"
            ]
          },
          "metadata": {},
          "execution_count": 9
        }
      ]
    },
    {
      "cell_type": "markdown",
      "source": [
        "8. Compute the distance between two points as above. Recall that the distance between points in two dimensions is $\\sqrt{(x_2−x_1)^2+(y_2-y_1)^2}$. Make it a function.\n"
      ],
      "metadata": {
        "id": "gacOA0DepB3T"
      }
    },
    {
      "cell_type": "code",
      "source": [
        "def dist_calc(point1, point2):\n",
        "  \"\"\"\n",
        "    This function calculates the distance between two points\n",
        "\n",
        "    Args: point1, point2, lists of 2 numbers each\n",
        "\n",
        "    Returns: dist, the distance between the points\n",
        "  \"\"\"\n",
        "  if len(point1) == 2 and len(point2) == 2:\n",
        "    dist = math.sqrt((point2[0]-point2[0])**2 + (point2[1]-point1[1])**2)\n",
        "    return dist\n",
        "  else:\n",
        "    print(\"One of the points does not have 2 values\")\n",
        "    return None"
      ],
      "metadata": {
        "id": "_xRmx1DCSeaB"
      },
      "execution_count": null,
      "outputs": []
    },
    {
      "cell_type": "code",
      "source": [
        "dist_calc([1,8],[2,-5])"
      ],
      "metadata": {
        "colab": {
          "base_uri": "https://localhost:8080/"
        },
        "id": "iXWQrI4zSyV0",
        "outputId": "97697315-6c59-40cb-cffe-03458494257c"
      },
      "execution_count": null,
      "outputs": [
        {
          "output_type": "execute_result",
          "data": {
            "text/plain": [
              "13.0"
            ]
          },
          "metadata": {},
          "execution_count": 12
        }
      ]
    },
    {
      "cell_type": "markdown",
      "source": [
        "9. Generate a list with size 100 evenly spaced between -10 to 10."
      ],
      "metadata": {
        "id": "3acFaAEypBZ9"
      }
    },
    {
      "cell_type": "code",
      "source": [
        "import numpy as np"
      ],
      "metadata": {
        "id": "bhDqUc1_S1xO"
      },
      "execution_count": null,
      "outputs": []
    },
    {
      "cell_type": "code",
      "source": [
        "np.linspace(-10,10,100)"
      ],
      "metadata": {
        "colab": {
          "base_uri": "https://localhost:8080/"
        },
        "id": "sk-Osz_vS3Jw",
        "outputId": "6f4cd794-c4fd-4412-ace8-3dd6f5208a6b"
      },
      "execution_count": null,
      "outputs": [
        {
          "output_type": "execute_result",
          "data": {
            "text/plain": [
              "array([-10.        ,  -9.7979798 ,  -9.5959596 ,  -9.39393939,\n",
              "        -9.19191919,  -8.98989899,  -8.78787879,  -8.58585859,\n",
              "        -8.38383838,  -8.18181818,  -7.97979798,  -7.77777778,\n",
              "        -7.57575758,  -7.37373737,  -7.17171717,  -6.96969697,\n",
              "        -6.76767677,  -6.56565657,  -6.36363636,  -6.16161616,\n",
              "        -5.95959596,  -5.75757576,  -5.55555556,  -5.35353535,\n",
              "        -5.15151515,  -4.94949495,  -4.74747475,  -4.54545455,\n",
              "        -4.34343434,  -4.14141414,  -3.93939394,  -3.73737374,\n",
              "        -3.53535354,  -3.33333333,  -3.13131313,  -2.92929293,\n",
              "        -2.72727273,  -2.52525253,  -2.32323232,  -2.12121212,\n",
              "        -1.91919192,  -1.71717172,  -1.51515152,  -1.31313131,\n",
              "        -1.11111111,  -0.90909091,  -0.70707071,  -0.50505051,\n",
              "        -0.3030303 ,  -0.1010101 ,   0.1010101 ,   0.3030303 ,\n",
              "         0.50505051,   0.70707071,   0.90909091,   1.11111111,\n",
              "         1.31313131,   1.51515152,   1.71717172,   1.91919192,\n",
              "         2.12121212,   2.32323232,   2.52525253,   2.72727273,\n",
              "         2.92929293,   3.13131313,   3.33333333,   3.53535354,\n",
              "         3.73737374,   3.93939394,   4.14141414,   4.34343434,\n",
              "         4.54545455,   4.74747475,   4.94949495,   5.15151515,\n",
              "         5.35353535,   5.55555556,   5.75757576,   5.95959596,\n",
              "         6.16161616,   6.36363636,   6.56565657,   6.76767677,\n",
              "         6.96969697,   7.17171717,   7.37373737,   7.57575758,\n",
              "         7.77777778,   7.97979798,   8.18181818,   8.38383838,\n",
              "         8.58585859,   8.78787879,   8.98989899,   9.19191919,\n",
              "         9.39393939,   9.5959596 ,   9.7979798 ,  10.        ])"
            ]
          },
          "metadata": {},
          "execution_count": 14
        }
      ]
    },
    {
      "cell_type": "markdown",
      "source": [
        "10. Consider a triangle with vertices at (0,0), (1,0), and (0,1). Write a function `my_inside_triangle(x,y)` where the output is the string 'outside' if the point (x,y) is outside of the triangle, 'border' if the point is exactly on the border of the triangle, and 'inside' if the point is on the inside of the triangle."
      ],
      "metadata": {
        "id": "5iE6KewqpBOU"
      }
    },
    {
      "cell_type": "code",
      "source": [
        "def my_inside_triangle(x,y):\n",
        "  \"\"\"\n",
        "    This function tests whether or not a given point x,y is inside the triangle with vertices at (0,0), (1,0), and (0,1)\n",
        "\n",
        "    Args: x,y the x and y cooridnates of the point\n",
        "\n",
        "    Returns: ans, string that indicates 'outside' if x,y is outside the triangle, 'border' if the point is exactly on the border, \n",
        "      or 'inside' if the point is inside the triangle\n",
        "  \"\"\"\n",
        "\n",
        "  #If the x value is between 0 and 1 and the y value is below the line between\n",
        "  #(1,0) and (0,1), the equation for which is y = -x + 1, then the point is \n",
        "  #inside the triangle\n",
        "  if x > 0 and x < 1 and y > 0 and y < (-x + 1):\n",
        "    print (\"Inside\")\n",
        "\n",
        "  #If the x value is greater than or equal to 0 and less than or equal to 1, and\n",
        "  #the y value is equal to 0, the point is on the bottom border of the triangle\n",
        "  elif x >= 0 and x <= 1 and y == 0:\n",
        "    print (\"Border\")\n",
        "\n",
        "  #If the y value is greater than or equal to 0 and less than or equal to 1, and\n",
        "  #the x value is equal to 0, the point is on the left border of the triangle\n",
        "  elif y >= 0 and y <= 1 and x == 0:\n",
        "    print (\"Border\")\n",
        "  \n",
        "  #If the x value is greater than or equal to 0 and less than or equal to 1, and\n",
        "  #the y value falls on the line with equation y = -x + 1, the point is on the \n",
        "  #top border of the triangle\n",
        "  elif x >= 0 and x <= 1 and y == -x + 1:\n",
        "    print (\"Border\")\n",
        "  \n",
        "  #If the point is not inside, nor on the border, then it must be outside\n",
        "  else:\n",
        "    print (\"Outside\")"
      ],
      "metadata": {
        "id": "stDvhcTATOPt"
      },
      "execution_count": null,
      "outputs": []
    },
    {
      "cell_type": "code",
      "source": [
        "my_inside_triangle(0,4)\n",
        "my_inside_triangle(-1,-4)\n",
        "my_inside_triangle(0.5,0.25)\n",
        "my_inside_triangle(0,0)\n",
        "my_inside_triangle(2,-1)"
      ],
      "metadata": {
        "colab": {
          "base_uri": "https://localhost:8080/"
        },
        "id": "vlga3MfZTUNS",
        "outputId": "2bd5acdf-3088-48ca-f228-7cbc79d78f33"
      },
      "execution_count": null,
      "outputs": [
        {
          "output_type": "stream",
          "name": "stdout",
          "text": [
            "Outside\n",
            "Outside\n",
            "Inside\n",
            "Border\n",
            "Outside\n"
          ]
        }
      ]
    },
    {
      "cell_type": "markdown",
      "source": [
        "11. Define a function that prints every even-indexed element of a list."
      ],
      "metadata": {
        "id": "i2WbUQiCknc1"
      }
    },
    {
      "cell_type": "code",
      "source": [
        "def even(list):\n",
        "    \"\"\" \n",
        "      This function prints only the even-indexed elements of a list\n",
        "\n",
        "      Args: list (list)\n",
        "\n",
        "      Returns: none\n",
        "    \"\"\"\n",
        "    \n",
        "    i = 0\n",
        "    while i<=len(list):\n",
        "        print(list[i])\n",
        "        i = i+2\n"
      ],
      "metadata": {
        "id": "BGeyz8qHleKk"
      },
      "execution_count": null,
      "outputs": []
    },
    {
      "cell_type": "code",
      "source": [
        "even([0, 1, 2, 3, 4, 5, 6, 7, 8, 9, 10])"
      ],
      "metadata": {
        "colab": {
          "base_uri": "https://localhost:8080/"
        },
        "id": "sLOziU9llrmB",
        "outputId": "7faf07e5-3ba8-4faa-b28d-b718d479a950"
      },
      "execution_count": null,
      "outputs": [
        {
          "output_type": "stream",
          "name": "stdout",
          "text": [
            "0\n",
            "2\n",
            "4\n",
            "6\n",
            "8\n",
            "10\n"
          ]
        }
      ]
    },
    {
      "cell_type": "markdown",
      "source": [
        "12. Write a function to check if a given number is a palindrome number."
      ],
      "metadata": {
        "id": "dYeEx9gbknHx"
      }
    },
    {
      "cell_type": "code",
      "source": [
        "def palindrome(number):\n",
        "    \"\"\"\n",
        "      This function determines whether or not a given number is a palindrome \n",
        "        and prints a statement that declares if it is a palindrome or not\n",
        "\n",
        "      Args: number\n",
        "\n",
        "      Returns: None\n",
        "    \"\"\"\n",
        "    \n",
        "    print(\"Original number:\", number)\n",
        "    original_num = number\n",
        "    \n",
        "    # reverse the given number\n",
        "    reverse_num = 0\n",
        "    while number > 0:\n",
        "        reminder = number % 10\n",
        "        reverse_num = (reverse_num * 10) + reminder\n",
        "        number = number // 10\n",
        "\n",
        "    # check numbers\n",
        "    if original_num == reverse_num:\n",
        "        print(\"Given number is a palindrome\")\n",
        "    else:\n",
        "        print(\"Given number is not palindrome\")"
      ],
      "metadata": {
        "id": "ba4goNmukmpO"
      },
      "execution_count": null,
      "outputs": []
    },
    {
      "cell_type": "code",
      "source": [
        "palindrome(1145411)\n",
        "palindrome(1234)"
      ],
      "metadata": {
        "colab": {
          "base_uri": "https://localhost:8080/"
        },
        "id": "nCnjJemAlvob",
        "outputId": "fc8629eb-5b7e-4552-a43a-f4667fad4f7f"
      },
      "execution_count": null,
      "outputs": [
        {
          "output_type": "stream",
          "name": "stdout",
          "text": [
            "Original number: 1145411\n",
            "Given number is a palindrome\n",
            "Original number: 1234\n",
            "Given number is not palindrome\n"
          ]
        }
      ]
    },
    {
      "cell_type": "markdown",
      "source": [
        "13. Write a function to calculate income tax for a given income based on the following rules:\n",
        "\n",
        "\n",
        "*   First $10,000 - 0%\n",
        "\n",
        "*   Next $10,000 - 10%\n",
        "*   Remaining - 20%\n",
        "\n",
        "\n",
        "For example, suppose the taxable income is 45000 the income tax payable is\n",
        "\n",
        "10000`*`0% + 10000`*`10%  + 25000`*`20% = $6000."
      ],
      "metadata": {
        "id": "-X21Ed3Qlc68"
      }
    },
    {
      "cell_type": "code",
      "source": [
        "def income_tax(income):\n",
        "    \"\"\"\n",
        "      This function calculates income tax based on 0% tax for first $10,000, 10% tax on the next $10,000, and 20% on any income above $20,000\n",
        "        and prints the value of the tax that is due\n",
        "\n",
        "      Args: income\n",
        "\n",
        "      Returns: tax_payable\n",
        "    \"\"\"\n",
        "    tax_payable = 0\n",
        "    print(\"Given income\", income)\n",
        "\n",
        "    if income <= 10000:\n",
        "        tax_payable = 0\n",
        "    elif income <= 20000:\n",
        "        # no tax on first 10,000\n",
        "        x = income - 10000\n",
        "        # 10% tax\n",
        "        tax_payable = x * 10 / 100\n",
        "    else:\n",
        "        # first 10,000\n",
        "        tax_payable = 0\n",
        "\n",
        "        # next 10,000 10% tax\n",
        "        tax_payable = 10000 * 10 / 100\n",
        "\n",
        "        # remaining 20%tax\n",
        "        tax_payable += (income - 20000) * 20 / 100\n",
        "\n",
        "    print(\"Total tax to pay is $\", tax_payable)\n",
        "    return tax_payable"
      ],
      "metadata": {
        "id": "rarBjl4uldfL"
      },
      "execution_count": null,
      "outputs": []
    },
    {
      "cell_type": "code",
      "source": [
        "income_tax(45000)\n",
        "income_tax(370000)"
      ],
      "metadata": {
        "colab": {
          "base_uri": "https://localhost:8080/"
        },
        "id": "c8-hVRoonD-V",
        "outputId": "6bf680e3-68c8-4b29-e59b-970957ba7a01"
      },
      "execution_count": null,
      "outputs": [
        {
          "output_type": "stream",
          "name": "stdout",
          "text": [
            "Given income 45000\n",
            "Total tax to pay is $ 6000.0\n",
            "Given income 370000\n",
            "Total tax to pay is $ 71000.0\n"
          ]
        },
        {
          "output_type": "execute_result",
          "data": {
            "text/plain": [
              "71000.0"
            ]
          },
          "metadata": {},
          "execution_count": 2
        }
      ]
    },
    {
      "cell_type": "markdown",
      "source": [
        "14. Write a function that reverses the word order of an input string. For example, the input string 'Python is super fun' should return 'fun super is Python'."
      ],
      "metadata": {
        "id": "f-LM9ykppjN3"
      }
    },
    {
      "cell_type": "code",
      "source": [
        "def reverseWord(w):\n",
        "  \"\"\"\n",
        "    This function reverses the order of words in a string\n",
        "\n",
        "    Args: w (str)\n",
        "\n",
        "    Returns: string with words in reverse order\n",
        "  \"\"\"\n",
        "  return ' '.join(w.split()[::-1])"
      ],
      "metadata": {
        "id": "XMIgVxgRpj61"
      },
      "execution_count": null,
      "outputs": []
    },
    {
      "cell_type": "code",
      "source": [
        "print(reverseWord('Python is super fun'))\n",
        "print(reverseWord('Do or do not there is no try'))"
      ],
      "metadata": {
        "colab": {
          "base_uri": "https://localhost:8080/"
        },
        "id": "Qv2H8KKApmtN",
        "outputId": "ed9755bc-5031-4a47-9fd9-4febc0588968"
      },
      "execution_count": null,
      "outputs": [
        {
          "output_type": "stream",
          "name": "stdout",
          "text": [
            "fun super is Python\n",
            "try no is there not do or Do\n"
          ]
        }
      ]
    }
  ]
}