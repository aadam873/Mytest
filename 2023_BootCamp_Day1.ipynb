{
  "nbformat": 4,
  "nbformat_minor": 0,
  "metadata": {
    "colab": {
      "provenance": [],
      "collapsed_sections": [
        "26GPU4UTozpp"
      ],
      "include_colab_link": true
    },
    "kernelspec": {
      "name": "python3",
      "display_name": "Python 3"
    },
    "language_info": {
      "name": "python"
    }
  },
  "cells": [
    {
      "cell_type": "markdown",
      "metadata": {
        "id": "view-in-github",
        "colab_type": "text"
      },
      "source": [
        "<a href=\"https://colab.research.google.com/github/aadam873/Mytest/blob/master/2023_BootCamp_Day1.ipynb\" target=\"_parent\"><img src=\"https://colab.research.google.com/assets/colab-badge.svg\" alt=\"Open In Colab\"/></a>"
      ]
    },
    {
      "cell_type": "markdown",
      "source": [
        "Acknowledgments/Credits: The material for this bootcamp is based on lectures from Univeristy of Maryland, College Park GRADMAP and Scientific Computing from Scratch 2022. "
      ],
      "metadata": {
        "id": "cM23xsn6lfW6"
      }
    },
    {
      "cell_type": "markdown",
      "source": [
        "## **Please make your own copy of this notebook before making changes or beginning the exercises!**"
      ],
      "metadata": {
        "id": "BsMdKSATpsRg"
      }
    },
    {
      "cell_type": "markdown",
      "source": [
        "#Day 1 Python Boot Camp\n",
        "## Agenda\n",
        "1. [**Why Python?**](#WhyPython)\n",
        "2. [**Basic Syntax**](#syntax)\n",
        "3. [**Differences from MATLAB**](#matlab)\n",
        "4. [**What is a function**](#function)\n",
        "5. [**Python Quirks**](#quirks)\n",
        "6. [**Exercises**](#excercises)"
      ],
      "metadata": {
        "id": "LHyP5Gdmhb-P"
      }
    },
    {
      "cell_type": "markdown",
      "source": [
        "## 1. Why Python?\n",
        "<a id='WhyPython'></a>"
      ],
      "metadata": {
        "id": "-FBEiZwIokGk"
      }
    },
    {
      "cell_type": "markdown",
      "source": [
        "\n",
        "\n",
        "What makes Python great?\n",
        "\n",
        "*   Dynamic language (no compiling)\n",
        "*   Interactive (Jupyter and Colab notebooks)\n",
        "*   Lots of packages\n",
        "*   Great community\n",
        "\n",
        "\n",
        "\n"
      ],
      "metadata": {
        "id": "0UGs3OHflPx3"
      }
    },
    {
      "cell_type": "markdown",
      "source": [
        "Science relies on reproducibility, and part of that is sharing data and sharing analysis code. If a license is required for the software to run your code, that does not encourage others to use your method or build upon it further. "
      ],
      "metadata": {
        "id": "yotkJWq4lxCj"
      }
    },
    {
      "cell_type": "markdown",
      "source": [
        "## 2. Basic Syntax\n",
        "<a id='syntax'></a>"
      ],
      "metadata": {
        "id": "lWI8vZxzonw6"
      }
    },
    {
      "cell_type": "markdown",
      "metadata": {
        "jp-MarkdownHeadingCollapsed": true,
        "tags": [],
        "id": "a79f7c40-b405-43be-8b03-04b1a32e447f"
      },
      "source": [
        "### Python as a calculator\n",
        "<a id='syntax'></a>"
      ]
    },
    {
      "cell_type": "code",
      "execution_count": null,
      "metadata": {
        "id": "afd55390-0c8c-4e44-8ed9-90c0c2a17dbc",
        "colab": {
          "base_uri": "https://localhost:8080/"
        },
        "outputId": "457b3cb6-5515-4184-8b0c-a20038df3966"
      },
      "outputs": [
        {
          "output_type": "execute_result",
          "data": {
            "text/plain": [
              "18"
            ]
          },
          "metadata": {},
          "execution_count": 1
        }
      ],
      "source": [
        "7 + 11"
      ]
    },
    {
      "cell_type": "markdown",
      "metadata": {
        "id": "31804fd4-2910-468e-a6cc-f38b320f0d33"
      },
      "source": [
        "The usual order of operations is respected. You can also use parentheses to ensure a certain order."
      ]
    },
    {
      "cell_type": "code",
      "execution_count": null,
      "metadata": {
        "id": "7a322c56-2f3b-4825-a237-25ffbb5d483a",
        "colab": {
          "base_uri": "https://localhost:8080/"
        },
        "outputId": "1d16d287-3f73-479e-b422-76f9c6a83ac6"
      },
      "outputs": [
        {
          "output_type": "execute_result",
          "data": {
            "text/plain": [
              "2.0"
            ]
          },
          "metadata": {},
          "execution_count": 2
        }
      ],
      "source": [
        "(3*4)/(2**2 + 4/2)"
      ]
    },
    {
      "cell_type": "markdown",
      "metadata": {
        "id": "094c942c-23f9-4ed2-b842-ca3a203a9e03"
      },
      "source": [
        "You can use `_` to refer to the output of the previous computation."
      ]
    },
    {
      "cell_type": "code",
      "execution_count": null,
      "metadata": {
        "id": "a2db46e5-1d91-4e6d-b2c9-08e41e3e0778",
        "colab": {
          "base_uri": "https://localhost:8080/"
        },
        "outputId": "16bd71c6-de3a-4f72-be90-e08b89cd95b8"
      },
      "outputs": [
        {
          "output_type": "execute_result",
          "data": {
            "text/plain": [
              "8.0"
            ]
          },
          "metadata": {},
          "execution_count": 3
        }
      ],
      "source": [
        "_*4"
      ]
    },
    {
      "cell_type": "markdown",
      "metadata": {
        "id": "f224ecd4-df82-408b-a6b8-eac982fecdef"
      },
      "source": [
        "Arithmetic with complex numbers uses `j` with a number in front, or the keyword `complex`."
      ]
    },
    {
      "cell_type": "code",
      "execution_count": null,
      "metadata": {
        "id": "e642114a-7c7c-43a4-bbcb-66e42bdf4f69",
        "colab": {
          "base_uri": "https://localhost:8080/"
        },
        "outputId": "18d2c7b2-c9c2-4769-ebe6-4ea592b1bf69"
      },
      "outputs": [
        {
          "output_type": "execute_result",
          "data": {
            "text/plain": [
              "(3+4j)"
            ]
          },
          "metadata": {},
          "execution_count": 4
        }
      ],
      "source": [
        "(3+4j)"
      ]
    },
    {
      "cell_type": "code",
      "execution_count": null,
      "metadata": {
        "id": "4cee4a15-f485-42e5-9f99-0a8ca565495a",
        "colab": {
          "base_uri": "https://localhost:8080/"
        },
        "outputId": "c1ae89da-5682-452a-b54c-128e4f0b6682"
      },
      "outputs": [
        {
          "output_type": "execute_result",
          "data": {
            "text/plain": [
              "(3+4j)"
            ]
          },
          "metadata": {},
          "execution_count": 5
        }
      ],
      "source": [
        "complex(3,4)"
      ]
    },
    {
      "cell_type": "code",
      "execution_count": null,
      "metadata": {
        "id": "949c59b7-5b65-4630-9e4e-e835b350c2ed",
        "colab": {
          "base_uri": "https://localhost:8080/"
        },
        "outputId": "cfed416e-49b5-4baf-cc94-622118974d9a"
      },
      "outputs": [
        {
          "output_type": "execute_result",
          "data": {
            "text/plain": [
              "5.0"
            ]
          },
          "metadata": {},
          "execution_count": 6
        }
      ],
      "source": [
        "abs(3+4j)"
      ]
    },
    {
      "cell_type": "markdown",
      "metadata": {
        "id": "d74e4fb8-6855-4070-be83-cca60b141329"
      },
      "source": [
        "Importing packages is done with a line such as"
      ]
    },
    {
      "cell_type": "code",
      "execution_count": null,
      "metadata": {
        "id": "f6e58575-f2d0-4f4c-8ce6-075b058e61ab"
      },
      "outputs": [],
      "source": [
        "import antigravity"
      ]
    },
    {
      "cell_type": "markdown",
      "metadata": {
        "id": "d53740ff-bddc-4839-a96a-e96c5af6b6ed"
      },
      "source": [
        "Basic functions such as `sin`, `cos`, `exp`, `log`, `sqrt`, can be found in various packages. For example, the math package. Try `TAB` completion (`Control+SPACE` in Colab) to see what's in a package."
      ]
    },
    {
      "cell_type": "code",
      "source": [
        "import math"
      ],
      "metadata": {
        "id": "94xoAgHjmwgi"
      },
      "execution_count": null,
      "outputs": []
    },
    {
      "cell_type": "code",
      "execution_count": null,
      "metadata": {
        "id": "5238b2d4-ac73-4645-920e-03d12648814a",
        "colab": {
          "base_uri": "https://localhost:8080/"
        },
        "outputId": "e4298594-6681-4f2c-f857-55165bca5e63"
      },
      "outputs": [
        {
          "output_type": "execute_result",
          "data": {
            "text/plain": [
              "11013.232920103324"
            ]
          },
          "metadata": {},
          "execution_count": 51
        }
      ],
      "source": [
        "math."
      ]
    },
    {
      "cell_type": "markdown",
      "metadata": {
        "id": "4f65d3b7-9829-4f16-8be1-25e3e26f8eed"
      },
      "source": [
        "There are different ways to get information about a certain function"
      ]
    },
    {
      "cell_type": "code",
      "execution_count": null,
      "metadata": {
        "id": "5841daea-69d2-4794-b86d-f0f7ab7bb550"
      },
      "outputs": [],
      "source": [
        "math.factorial?"
      ]
    },
    {
      "cell_type": "code",
      "execution_count": null,
      "metadata": {
        "id": "c4e13ca9-c0b3-4e3e-b53b-1ec9b33f6b76",
        "colab": {
          "base_uri": "https://localhost:8080/"
        },
        "outputId": "b3818703-8128-4160-fea0-20566ad315a4"
      },
      "outputs": [
        {
          "output_type": "stream",
          "name": "stdout",
          "text": [
            "Help on built-in function factorial in module math:\n",
            "\n",
            "factorial(x, /)\n",
            "    Find x!.\n",
            "    \n",
            "    Raise a ValueError if x is negative or non-integral.\n",
            "\n"
          ]
        }
      ],
      "source": [
        "help(math.factorial)"
      ]
    },
    {
      "cell_type": "markdown",
      "metadata": {
        "jp-MarkdownHeadingCollapsed": true,
        "tags": [],
        "id": "30f69686-a931-4d33-9fa0-7b420c973505"
      },
      "source": [
        "### Variables and assignments"
      ]
    },
    {
      "cell_type": "markdown",
      "metadata": {
        "id": "ee3e2f5f-e7ce-4755-afbf-a6fa6ee9228d"
      },
      "source": [
        "The assignment operator, denoted by the `=` symbol, assigns values to variables. The line `var_a=3` takes the known value, 3, and assigns that value to the variable `var_a`. Variables can be a single letter (like x or y) but they are usually more helpful when they have descriptive names (like average, cells, total_sum). You want to have a descriptive variable name (so you don't have to keep looking up what it is) but also one that is not a pain to type repeatedly.\n",
        "\n",
        "Don't confuse assignment with equality! Assignment is not symmetric, whereas equality is."
      ]
    },
    {
      "cell_type": "code",
      "execution_count": null,
      "metadata": {
        "id": "70f75e19-6eab-4f7e-a486-275f7845c73b"
      },
      "outputs": [],
      "source": [
        "var_a = 3\n",
        "var_b = 7"
      ]
    },
    {
      "cell_type": "markdown",
      "metadata": {
        "id": "df83a35d-f7f7-43cb-80e3-760d0e11f97c"
      },
      "source": [
        "You can do algebra with variables as usual"
      ]
    },
    {
      "cell_type": "code",
      "execution_count": null,
      "metadata": {
        "id": "c518574f-3c14-4360-b056-4d48e3d3d446",
        "colab": {
          "base_uri": "https://localhost:8080/"
        },
        "outputId": "bc1aaf88-aa3c-4cf3-e2bb-3c83086e1e68"
      },
      "outputs": [
        {
          "output_type": "execute_result",
          "data": {
            "text/plain": [
              "10"
            ]
          },
          "metadata": {},
          "execution_count": 17
        }
      ],
      "source": [
        "var_a + var_b"
      ]
    },
    {
      "cell_type": "markdown",
      "metadata": {
        "id": "5a141f0e-0c58-4bd6-a8a0-1bd395cd2cae"
      },
      "source": [
        "or assign the result of a calculation to a new variable"
      ]
    },
    {
      "cell_type": "code",
      "execution_count": null,
      "metadata": {
        "id": "ec17fdd4-f089-46a7-ba89-76a8ceb08609",
        "colab": {
          "base_uri": "https://localhost:8080/"
        },
        "outputId": "87c02197-143f-4a91-d22c-a5e36926c886"
      },
      "outputs": [
        {
          "output_type": "execute_result",
          "data": {
            "text/plain": [
              "10"
            ]
          },
          "metadata": {},
          "execution_count": 18
        }
      ],
      "source": [
        "var_sum = var_a + var_b\n",
        "var_sum"
      ]
    },
    {
      "cell_type": "markdown",
      "metadata": {
        "id": "fa3e2fe0-4fa9-4b61-92a0-a5128f2b36c5"
      },
      "source": [
        "Variables in Python come in many forms. Below are some examples."
      ]
    },
    {
      "cell_type": "code",
      "source": [
        "\"string\""
      ],
      "metadata": {
        "colab": {
          "base_uri": "https://localhost:8080/",
          "height": 36
        },
        "id": "Is5dHK5P6t30",
        "outputId": "6a860e1a-daa5-4a47-bc40-3bb9a926024c"
      },
      "execution_count": null,
      "outputs": [
        {
          "output_type": "execute_result",
          "data": {
            "text/plain": [
              "'string'"
            ],
            "application/vnd.google.colaboratory.intrinsic+json": {
              "type": "string"
            }
          },
          "metadata": {},
          "execution_count": 20
        }
      ]
    },
    {
      "cell_type": "code",
      "execution_count": null,
      "metadata": {
        "id": "db391770-5a92-476d-8145-b20f02455082"
      },
      "outputs": [],
      "source": [
        "an_integer = 42 # Just an integer\n",
        "a_float = 0.1 # A non-integer number, up to a fixed precision\n",
        "a_boolean = True # A value that can be True or False\n",
        "a_string = '''just enclose text between two 's, or two \"s, or do what we did for this string''' # Text\n",
        "none_of_the_above = None # The absence of any actual value or variable type"
      ]
    },
    {
      "cell_type": "markdown",
      "metadata": {
        "id": "b8bcf5b0-2465-4a35-a291-155f403139f6"
      },
      "source": [
        "Mathematical equality is ==  "
      ]
    },
    {
      "cell_type": "code",
      "execution_count": null,
      "metadata": {
        "id": "46987bc6-fae3-4a68-9dab-1e0d82a1f671",
        "colab": {
          "base_uri": "https://localhost:8080/"
        },
        "outputId": "09a073b3-f7c6-4348-a04f-cd9d08021527"
      },
      "outputs": [
        {
          "output_type": "execute_result",
          "data": {
            "text/plain": [
              "True"
            ]
          },
          "metadata": {},
          "execution_count": 21
        }
      ],
      "source": [
        "var_sum == var_a + var_b"
      ]
    },
    {
      "cell_type": "code",
      "execution_count": null,
      "metadata": {
        "id": "9746a684-0983-4692-936f-e08e3fbe8667",
        "colab": {
          "base_uri": "https://localhost:8080/"
        },
        "outputId": "8052c83b-68f8-4206-d604-7f1f6c4acc64"
      },
      "outputs": [
        {
          "output_type": "execute_result",
          "data": {
            "text/plain": [
              "False"
            ]
          },
          "metadata": {},
          "execution_count": 22
        }
      ],
      "source": [
        "var_a == var_b"
      ]
    },
    {
      "cell_type": "markdown",
      "metadata": {
        "id": "a0ee44d4-dc8c-4f8c-b29e-a59586e702a4"
      },
      "source": [
        "We can assign the value of one variable to another"
      ]
    },
    {
      "cell_type": "code",
      "execution_count": null,
      "metadata": {
        "id": "81f1fe5f-a0e9-4a1f-bf6f-98a845a445c7",
        "colab": {
          "base_uri": "https://localhost:8080/"
        },
        "outputId": "be8b04d1-9db7-4748-9cee-ce2da032256a"
      },
      "outputs": [
        {
          "output_type": "stream",
          "name": "stdout",
          "text": [
            "Variable a is:  7 \n",
            "Variable b is:  7\n"
          ]
        }
      ],
      "source": [
        "var_a = var_b\n",
        "print(\"Variable a is: \",var_a, \"\\nVariable b is: \", var_b)"
      ]
    },
    {
      "cell_type": "markdown",
      "metadata": {
        "id": "e244d7ec-a83d-4864-a387-92d4271c599e"
      },
      "source": [
        "We can assign multiple variables in one line"
      ]
    },
    {
      "cell_type": "code",
      "execution_count": null,
      "metadata": {
        "id": "872756cd-8def-41cc-873d-dfe8696cbe46"
      },
      "outputs": [],
      "source": [
        "var_a, var_b = 3, 7"
      ]
    },
    {
      "cell_type": "code",
      "execution_count": null,
      "metadata": {
        "id": "13a00ffc-07f6-4298-b16b-14027002b5f3",
        "colab": {
          "base_uri": "https://localhost:8080/"
        },
        "outputId": "6b688366-59a6-4c70-e573-45bc0feaa60a"
      },
      "outputs": [
        {
          "output_type": "execute_result",
          "data": {
            "text/plain": [
              "10"
            ]
          },
          "metadata": {},
          "execution_count": 25
        }
      ],
      "source": [
        "var_a + var_b"
      ]
    },
    {
      "cell_type": "markdown",
      "metadata": {
        "id": "b8b33aee-d53f-4cd6-83e5-4816fe5e491e"
      },
      "source": [
        "You can clear a variable using `del`"
      ]
    },
    {
      "cell_type": "code",
      "execution_count": null,
      "metadata": {
        "id": "804121ee-aa7b-43e3-87d4-776fbe226d79"
      },
      "outputs": [],
      "source": [
        "del var_a"
      ]
    },
    {
      "cell_type": "code",
      "execution_count": null,
      "metadata": {
        "id": "0c680f77-e2a8-48b2-bafc-e96b8044fb8b",
        "colab": {
          "base_uri": "https://localhost:8080/",
          "height": 171
        },
        "outputId": "f4801a1f-c437-4ce3-9f45-9bb32e4e1db8"
      },
      "outputs": [
        {
          "output_type": "error",
          "ename": "NameError",
          "evalue": "ignored",
          "traceback": [
            "\u001b[0;31m---------------------------------------------------------------------------\u001b[0m",
            "\u001b[0;31mNameError\u001b[0m                                 Traceback (most recent call last)",
            "\u001b[0;32m<ipython-input-27-10939fc4f8a9>\u001b[0m in \u001b[0;36m<module>\u001b[0;34m()\u001b[0m\n\u001b[0;32m----> 1\u001b[0;31m \u001b[0mvar_a\u001b[0m\u001b[0;34m\u001b[0m\u001b[0;34m\u001b[0m\u001b[0m\n\u001b[0m",
            "\u001b[0;31mNameError\u001b[0m: name 'var_a' is not defined"
          ]
        }
      ],
      "source": [
        "var_a"
      ]
    },
    {
      "cell_type": "markdown",
      "metadata": {
        "id": "518c51b3-d826-4eb5-b9cf-6049d2254c0a"
      },
      "source": [
        "One more difference between mathematical equality and computational assignment: the expression below doesn't make sense mathematically, but is common in computation"
      ]
    },
    {
      "cell_type": "code",
      "execution_count": null,
      "metadata": {
        "id": "ae62f574-4e30-4c3b-a4c7-dd6c6a381aaa"
      },
      "outputs": [],
      "source": [
        "var_b = var_b + 1"
      ]
    },
    {
      "cell_type": "markdown",
      "metadata": {
        "id": "0917934d-6d39-4089-84a0-41140c783d3f"
      },
      "source": [
        "It's so common that there is an short form for the increment"
      ]
    },
    {
      "cell_type": "code",
      "execution_count": null,
      "metadata": {
        "id": "fa93d832-4939-4999-8b84-b23bcf8a7fc8"
      },
      "outputs": [],
      "source": [
        "var_b += 1"
      ]
    },
    {
      "cell_type": "code",
      "source": [
        "var_b"
      ],
      "metadata": {
        "colab": {
          "base_uri": "https://localhost:8080/"
        },
        "id": "PIgQq4jo7S0x",
        "outputId": "44c53584-4707-4759-ebb0-3af5ff98097a"
      },
      "execution_count": null,
      "outputs": [
        {
          "output_type": "execute_result",
          "data": {
            "text/plain": [
              "9"
            ]
          },
          "metadata": {},
          "execution_count": 30
        }
      ]
    },
    {
      "cell_type": "markdown",
      "metadata": {
        "id": "a2e1448e-29dd-4f79-a5f7-d6d845197ab4"
      },
      "source": [
        "List all the variables in this notebook"
      ]
    },
    {
      "cell_type": "code",
      "execution_count": null,
      "metadata": {
        "id": "7258b306-e13d-4b81-9f11-ba1d4f6f6d97",
        "colab": {
          "base_uri": "https://localhost:8080/"
        },
        "outputId": "b95d5305-734f-4c6b-af65-87fcf7414619"
      },
      "outputs": [
        {
          "output_type": "stream",
          "name": "stdout",
          "text": [
            "Variable              Type        Data/Info\n",
            "-------------------------------------------\n",
            "factorial_recursive   function    <function factorial_recursive at 0x7f2b0996e7a0>\n",
            "math                  module      <module 'math' (built-in)>\n",
            "this                  module      <module 'this' from '/usr/lib/python3.7/this.py'>\n",
            "var_b                 int         9\n",
            "var_sum               int         10\n"
          ]
        }
      ],
      "source": [
        "%whos"
      ]
    },
    {
      "cell_type": "markdown",
      "metadata": {
        "jp-MarkdownHeadingCollapsed": true,
        "tags": [],
        "id": "cce3b46e-af7c-4644-868a-d79ae4b5abd5"
      },
      "source": [
        "### Lists, tuples, sets, and dictionaries"
      ]
    },
    {
      "cell_type": "markdown",
      "metadata": {
        "id": "fcf83b02-8043-4b71-be36-921b0b9fab02"
      },
      "source": [
        "**Lists** are groups of objects (values, variables, even functions). We construct them using square brackets [] with objects separated by commas."
      ]
    },
    {
      "cell_type": "code",
      "execution_count": null,
      "metadata": {
        "id": "e788f68c-f7d7-4550-9246-10f3643cdd42"
      },
      "outputs": [],
      "source": [
        "values = [7, 11, 13, 17, 19, 23, 29]"
      ]
    },
    {
      "cell_type": "markdown",
      "metadata": {
        "id": "8d6437c0-f085-4d3e-aafd-13e7fba73d4f"
      },
      "source": [
        "**Counting starts at 0.**"
      ]
    },
    {
      "cell_type": "code",
      "execution_count": null,
      "metadata": {
        "id": "752def10-796e-48a6-bc5b-ae3506d20f92",
        "colab": {
          "base_uri": "https://localhost:8080/"
        },
        "outputId": "47878384-2983-496d-870b-c0581857dbe8"
      },
      "outputs": [
        {
          "output_type": "execute_result",
          "data": {
            "text/plain": [
              "(7, 11, 13, 17, 19, 23, 29)"
            ]
          },
          "metadata": {},
          "execution_count": 33
        }
      ],
      "source": [
        "values[0], values[1], values[2], values[3], values[4], values[5], values[6]"
      ]
    },
    {
      "cell_type": "markdown",
      "metadata": {
        "id": "043693dd-66da-42bf-9215-e1688ddaf935"
      },
      "source": [
        "There are built-in functions for handling lists."
      ]
    },
    {
      "cell_type": "code",
      "execution_count": null,
      "metadata": {
        "id": "eccc2988-6939-4508-ba2f-974b4ed4f662",
        "colab": {
          "base_uri": "https://localhost:8080/"
        },
        "outputId": "b827fb57-d05c-4901-a3dd-0c1c847465b3"
      },
      "outputs": [
        {
          "output_type": "execute_result",
          "data": {
            "text/plain": [
              "7"
            ]
          },
          "metadata": {},
          "execution_count": 34
        }
      ],
      "source": [
        "len(values)"
      ]
    },
    {
      "cell_type": "code",
      "execution_count": null,
      "metadata": {
        "id": "1c5ec7dc-ae42-4fad-915e-c5b2aa11667f",
        "colab": {
          "base_uri": "https://localhost:8080/"
        },
        "outputId": "26d5d18d-4acf-485b-f564-991b6d9c38ae"
      },
      "outputs": [
        {
          "output_type": "execute_result",
          "data": {
            "text/plain": [
              "29"
            ]
          },
          "metadata": {},
          "execution_count": 36
        }
      ],
      "source": [
        "# This doesn't work\n",
        "values[6]"
      ]
    },
    {
      "cell_type": "markdown",
      "metadata": {
        "id": "1c0e5041-37ae-4c7d-8eaa-afea50698b7e"
      },
      "source": [
        "You can access list elements in reverse. For example, the last element of the list is"
      ]
    },
    {
      "cell_type": "code",
      "execution_count": null,
      "metadata": {
        "id": "5a824680-e07a-43f6-814f-ee9989c0280e",
        "colab": {
          "base_uri": "https://localhost:8080/"
        },
        "outputId": "4db75206-a51c-490b-cfaa-2e85a64e7ef0"
      },
      "outputs": [
        {
          "output_type": "execute_result",
          "data": {
            "text/plain": [
              "29"
            ]
          },
          "metadata": {},
          "execution_count": 37
        }
      ],
      "source": [
        "values[-1]"
      ]
    },
    {
      "cell_type": "markdown",
      "metadata": {
        "id": "490d72ef-43a6-480a-8934-25fa80eeb7cf"
      },
      "source": [
        "Sometimes you want to access portions of lists. These are called slices"
      ]
    },
    {
      "cell_type": "code",
      "execution_count": null,
      "metadata": {
        "id": "8ccd732d-9e78-4796-8fcc-504bb26a66bd",
        "colab": {
          "base_uri": "https://localhost:8080/"
        },
        "outputId": "c3f0b5c6-210f-4f65-eba4-e5ed09a573eb"
      },
      "outputs": [
        {
          "output_type": "execute_result",
          "data": {
            "text/plain": [
              "[7, 11, 13, 17]"
            ]
          },
          "metadata": {},
          "execution_count": 41
        }
      ],
      "source": [
        "values[0:4]"
      ]
    },
    {
      "cell_type": "markdown",
      "metadata": {
        "id": "c2247044-d13e-470e-9dbb-a1179dfad48a"
      },
      "source": [
        "When you specify the last element for the slice, it goes up to but not including that element of the list."
      ]
    },
    {
      "cell_type": "markdown",
      "metadata": {
        "id": "92076e72-ac63-46cc-b92d-74bc91b85288"
      },
      "source": [
        "If you do not include a start index, the slice automatically starts at the first element. If you do not include an end index, the slice automatically goes to the last element."
      ]
    },
    {
      "cell_type": "code",
      "execution_count": null,
      "metadata": {
        "id": "af17f1bb-094f-4316-b8fe-a869339abdf9",
        "colab": {
          "base_uri": "https://localhost:8080/"
        },
        "outputId": "a36226d2-6738-4ecc-b001-5ed6d0bc9cf0"
      },
      "outputs": [
        {
          "output_type": "execute_result",
          "data": {
            "text/plain": [
              "([19, 23, 29], [19, 23, 29])"
            ]
          },
          "metadata": {},
          "execution_count": 42
        }
      ],
      "source": [
        "values[4:7], values[4:]"
      ]
    },
    {
      "cell_type": "markdown",
      "metadata": {
        "id": "6ef8f01b-0fb8-4ebf-ae6f-33f22d34113d"
      },
      "source": [
        "Lists can include objects of different types. Most common data types in Python are strings, integers, and floats. You can put these different types together in a list."
      ]
    },
    {
      "cell_type": "code",
      "execution_count": null,
      "metadata": {
        "id": "eedffce2-c5aa-4798-a9fd-47cf098c50aa"
      },
      "outputs": [],
      "source": [
        "mixed_list = ['one', 1, 1e6, [1,1], 1==1, None]"
      ]
    },
    {
      "cell_type": "code",
      "source": [
        "type(mixed_list[0])"
      ],
      "metadata": {
        "colab": {
          "base_uri": "https://localhost:8080/"
        },
        "id": "db5DM98U8Qau",
        "outputId": "63033a62-a905-492b-a3e6-0f02d99fade0"
      },
      "execution_count": null,
      "outputs": [
        {
          "output_type": "execute_result",
          "data": {
            "text/plain": [
              "str"
            ]
          },
          "metadata": {},
          "execution_count": 45
        }
      ]
    },
    {
      "cell_type": "code",
      "execution_count": null,
      "metadata": {
        "id": "2491550d-e455-491e-83c2-176fc1031495",
        "colab": {
          "base_uri": "https://localhost:8080/"
        },
        "outputId": "367d2915-6543-4908-dca3-418f280b1a3f"
      },
      "outputs": [
        {
          "output_type": "stream",
          "name": "stdout",
          "text": [
            "str\n",
            "int\n",
            "float\n",
            "list\n",
            "bool\n",
            "NoneType\n"
          ]
        }
      ],
      "source": [
        "for item in mixed_list:\n",
        "    print(str(type(item))[8:-2])"
      ]
    },
    {
      "cell_type": "markdown",
      "metadata": {
        "id": "e51b1320-e4af-4266-80f3-049c05c2faf6"
      },
      "source": [
        "You can join lists together by \"adding\" them"
      ]
    },
    {
      "cell_type": "code",
      "execution_count": null,
      "metadata": {
        "id": "a0636ba8-9604-4cde-b7ca-5939c0edc118",
        "colab": {
          "base_uri": "https://localhost:8080/"
        },
        "outputId": "c148bed0-fe09-4df7-d264-68abdf6486ec"
      },
      "outputs": [
        {
          "output_type": "execute_result",
          "data": {
            "text/plain": [
              "[7, 11, 13, 17, 19, 23, 29, 'one', 1, 1000000.0, [1, 1], True, None]"
            ]
          },
          "metadata": {},
          "execution_count": 46
        }
      ],
      "source": [
        "values + mixed_list"
      ]
    },
    {
      "cell_type": "markdown",
      "metadata": {
        "id": "01515ad6-700e-4aca-adf7-1bc6455f102b"
      },
      "source": [
        "Addition or multiplication doesn't work the way you might expect for lists of numbers"
      ]
    },
    {
      "cell_type": "code",
      "execution_count": null,
      "metadata": {
        "id": "2f4729b0-6344-445a-94bb-dbbe87b0d370",
        "colab": {
          "base_uri": "https://localhost:8080/"
        },
        "outputId": "a20c9d28-a7e6-4a64-ab3c-dc9a7ad2388b"
      },
      "outputs": [
        {
          "output_type": "execute_result",
          "data": {
            "text/plain": [
              "[7, 11, 13, 17, 19, 23, 29, 7, 11, 13, 17, 19, 23, 29]"
            ]
          },
          "metadata": {},
          "execution_count": 47
        }
      ],
      "source": [
        "values + values"
      ]
    },
    {
      "cell_type": "code",
      "execution_count": null,
      "metadata": {
        "id": "ea7efa57-c419-4d56-9b66-c04df2d2421c",
        "colab": {
          "base_uri": "https://localhost:8080/"
        },
        "outputId": "0f0e788a-f630-44bb-8a63-83778112732c"
      },
      "outputs": [
        {
          "output_type": "execute_result",
          "data": {
            "text/plain": [
              "[7,\n",
              " 11,\n",
              " 13,\n",
              " 17,\n",
              " 19,\n",
              " 23,\n",
              " 29,\n",
              " 7,\n",
              " 11,\n",
              " 13,\n",
              " 17,\n",
              " 19,\n",
              " 23,\n",
              " 29,\n",
              " 7,\n",
              " 11,\n",
              " 13,\n",
              " 17,\n",
              " 19,\n",
              " 23,\n",
              " 29]"
            ]
          },
          "metadata": {},
          "execution_count": 49
        }
      ],
      "source": [
        "3*values"
      ]
    },
    {
      "cell_type": "markdown",
      "metadata": {
        "id": "edf43aff-155b-4a5b-a69a-a03502830317"
      },
      "source": [
        "Strings are similar (but not equal) to lists of characters"
      ]
    },
    {
      "cell_type": "code",
      "execution_count": null,
      "metadata": {
        "id": "60b4ca7a-f2a9-4cb7-ae99-e1d623374e64"
      },
      "outputs": [],
      "source": [
        "w = 'Hello World!'"
      ]
    },
    {
      "cell_type": "markdown",
      "metadata": {
        "id": "8886c993-01cc-4f8d-b5be-1280b62e2da8"
      },
      "source": [
        "You can slice them similar to lists"
      ]
    },
    {
      "cell_type": "code",
      "execution_count": null,
      "metadata": {
        "id": "264f94cb-01ec-4ccd-ad65-52bdaff58d6e",
        "colab": {
          "base_uri": "https://localhost:8080/",
          "height": 36
        },
        "outputId": "9b71c3ab-8eb5-4ff9-ee44-97b24f1f48fe"
      },
      "outputs": [
        {
          "output_type": "execute_result",
          "data": {
            "text/plain": [
              "'Hello'"
            ],
            "application/vnd.google.colaboratory.intrinsic+json": {
              "type": "string"
            }
          },
          "metadata": {},
          "execution_count": 51
        }
      ],
      "source": [
        "w[:5]"
      ]
    },
    {
      "cell_type": "markdown",
      "metadata": {
        "id": "c9d5ee84-7559-44f3-ac69-aeb988e70096"
      },
      "source": [
        "But strings are not lists. There are various built-in methods for handling strings."
      ]
    },
    {
      "cell_type": "code",
      "source": [
        "\n",
        "w."
      ],
      "metadata": {
        "colab": {
          "base_uri": "https://localhost:8080/"
        },
        "id": "R4GM6ttW8xYv",
        "outputId": "340f9061-a750-48af-b279-1dd6c7911bf8"
      },
      "execution_count": null,
      "outputs": [
        {
          "output_type": "execute_result",
          "data": {
            "text/plain": [
              "['Hello', 'World!']"
            ]
          },
          "metadata": {},
          "execution_count": 53
        }
      ]
    },
    {
      "cell_type": "code",
      "execution_count": null,
      "metadata": {
        "id": "ffb5b5ea-ab21-4574-8c6a-0a98d088582e",
        "colab": {
          "base_uri": "https://localhost:8080/"
        },
        "outputId": "e1166ac8-daa0-46fb-a7da-3c518a4c42c4"
      },
      "outputs": [
        {
          "output_type": "execute_result",
          "data": {
            "text/plain": [
              "('Hello', 'HELLO WORLD!')"
            ]
          },
          "metadata": {},
          "execution_count": 52
        }
      ],
      "source": [
        "w.split()[0], w.upper()"
      ]
    },
    {
      "cell_type": "markdown",
      "metadata": {
        "id": "f4798191-6ed3-48fc-8f94-6994e7ab9cb6"
      },
      "source": [
        "Another data structure similar to lists is the **tuple**."
      ]
    },
    {
      "cell_type": "code",
      "execution_count": null,
      "metadata": {
        "id": "248f983e-f532-48b1-b8d6-b20493fceb1f",
        "colab": {
          "base_uri": "https://localhost:8080/",
          "height": 36
        },
        "outputId": "f088d6dc-3963-4956-c05e-5d06cee59ec6"
      },
      "outputs": [
        {
          "output_type": "execute_result",
          "data": {
            "text/plain": [
              "'one'"
            ],
            "application/vnd.google.colaboratory.intrinsic+json": {
              "type": "string"
            }
          },
          "metadata": {},
          "execution_count": 54
        }
      ],
      "source": [
        "mixed_tuple = ('one', 1, 1e6, [1,1], 1==1, None)\n",
        "mixed_tuple[0]"
      ]
    },
    {
      "cell_type": "markdown",
      "metadata": {
        "id": "2bde2c11-8755-404a-8c4a-af8147eb3836"
      },
      "source": [
        "A major difference between the list and the tuple is that list items can be changed"
      ]
    },
    {
      "cell_type": "code",
      "execution_count": null,
      "metadata": {
        "id": "2afb5240-8d74-4b0d-89a6-2ce6e1a25f34",
        "colab": {
          "base_uri": "https://localhost:8080/"
        },
        "outputId": "e8840b78-37b0-4bf4-e3e0-5c41c8b88a12"
      },
      "outputs": [
        {
          "output_type": "stream",
          "name": "stdout",
          "text": [
            "['apple', 1, 1000000.0, [1, 1], True, None]\n"
          ]
        }
      ],
      "source": [
        "mixed_list[0] = 'apple'\n",
        "print(mixed_list)"
      ]
    },
    {
      "cell_type": "markdown",
      "metadata": {
        "id": "948b1385-a4ce-412e-95ea-77dbfeee7593"
      },
      "source": [
        "whereas tuple elements cannot (tuples are \"immutable\")"
      ]
    },
    {
      "cell_type": "code",
      "execution_count": null,
      "metadata": {
        "id": "19ca31a8-243e-476f-8040-de840ae01a3f",
        "colab": {
          "base_uri": "https://localhost:8080/",
          "height": 171
        },
        "outputId": "b57eb52a-46f6-45f0-921a-f1e86fb3e23a"
      },
      "outputs": [
        {
          "output_type": "error",
          "ename": "TypeError",
          "evalue": "ignored",
          "traceback": [
            "\u001b[0;31m---------------------------------------------------------------------------\u001b[0m",
            "\u001b[0;31mTypeError\u001b[0m                                 Traceback (most recent call last)",
            "\u001b[0;32m<ipython-input-56-499eadd467d5>\u001b[0m in \u001b[0;36m<module>\u001b[0;34m()\u001b[0m\n\u001b[0;32m----> 1\u001b[0;31m \u001b[0mmixed_tuple\u001b[0m\u001b[0;34m[\u001b[0m\u001b[0;36m0\u001b[0m\u001b[0;34m]\u001b[0m \u001b[0;34m=\u001b[0m \u001b[0;34m'apple'\u001b[0m\u001b[0;34m\u001b[0m\u001b[0;34m\u001b[0m\u001b[0m\n\u001b[0m",
            "\u001b[0;31mTypeError\u001b[0m: 'tuple' object does not support item assignment"
          ]
        }
      ],
      "source": [
        "mixed_tuple[0] = 'apple'"
      ]
    },
    {
      "cell_type": "markdown",
      "metadata": {
        "id": "36cc32b0-ad45-4b69-95d3-16d4fe05dbfa"
      },
      "source": [
        "Also, we can add an element to the end of a list, which we cannot do with tuples."
      ]
    },
    {
      "cell_type": "code",
      "execution_count": null,
      "metadata": {
        "id": "e6b9b710-0fa3-4836-9ed4-bdae92ce91e1",
        "colab": {
          "base_uri": "https://localhost:8080/"
        },
        "outputId": "4bc97e4e-a6ce-4044-9f69-dc35645ac0a2"
      },
      "outputs": [
        {
          "output_type": "stream",
          "name": "stdout",
          "text": [
            "['apple', 1, 1000000.0, [1, 1], True, None, 3.14]\n"
          ]
        }
      ],
      "source": [
        "mixed_list.append( 3.14 )\n",
        "print(mixed_list)"
      ]
    },
    {
      "cell_type": "markdown",
      "metadata": {
        "id": "f497d1d3-cc66-45c3-a6e5-d0c379b59cbe"
      },
      "source": [
        "**Sets** are unordered collections with no duplicate elements. They support mathematical operations like union, intersection, and complement. It is defined by using a pair of braces, and its elements are separated by commas"
      ]
    },
    {
      "cell_type": "code",
      "execution_count": null,
      "metadata": {
        "id": "659c905c-a0b3-4bd4-bfaa-5ebd562d59a3"
      },
      "outputs": [],
      "source": [
        "my_set = {3, 3, 2, 3, 1, 4, 5, 6, 4, 2}"
      ]
    },
    {
      "cell_type": "code",
      "source": [
        "my_set[0]"
      ],
      "metadata": {
        "colab": {
          "base_uri": "https://localhost:8080/",
          "height": 171
        },
        "id": "KsNisOvn9z2g",
        "outputId": "f32e7483-1814-48e2-83f8-f0dd8a92c793"
      },
      "execution_count": null,
      "outputs": [
        {
          "output_type": "error",
          "ename": "TypeError",
          "evalue": "ignored",
          "traceback": [
            "\u001b[0;31m---------------------------------------------------------------------------\u001b[0m",
            "\u001b[0;31mTypeError\u001b[0m                                 Traceback (most recent call last)",
            "\u001b[0;32m<ipython-input-65-158c424478a1>\u001b[0m in \u001b[0;36m<module>\u001b[0;34m()\u001b[0m\n\u001b[0;32m----> 1\u001b[0;31m \u001b[0mmy_set\u001b[0m\u001b[0;34m[\u001b[0m\u001b[0;36m0\u001b[0m\u001b[0;34m]\u001b[0m\u001b[0;34m\u001b[0m\u001b[0;34m\u001b[0m\u001b[0m\n\u001b[0m",
            "\u001b[0;31mTypeError\u001b[0m: 'set' object is not subscriptable"
          ]
        }
      ]
    },
    {
      "cell_type": "markdown",
      "metadata": {
        "id": "14d6ff7e-a2ba-48ba-a129-163a0f6bc8a2"
      },
      "source": [
        "One quick usage of this is to find out the unique elements in a string, list, or tuple."
      ]
    },
    {
      "cell_type": "code",
      "execution_count": null,
      "metadata": {
        "id": "bc114a8f-4cb4-422b-b49d-4868ea159914",
        "colab": {
          "base_uri": "https://localhost:8080/"
        },
        "outputId": "24d00d13-4dbd-43c6-fd61-08bacfb968f1"
      },
      "outputs": [
        {
          "output_type": "execute_result",
          "data": {
            "text/plain": [
              "{1, 2, 3}"
            ]
          },
          "metadata": {},
          "execution_count": 59
        }
      ],
      "source": [
        "set([1, 2, 2, 3, 2, 1, 2])"
      ]
    },
    {
      "cell_type": "code",
      "execution_count": null,
      "metadata": {
        "id": "3f5ab576-f5e9-4383-b341-280adbd3b7cf",
        "colab": {
          "base_uri": "https://localhost:8080/"
        },
        "outputId": "0a31b0c7-bca1-4740-c1ac-db45b20e68cd"
      },
      "outputs": [
        {
          "output_type": "execute_result",
          "data": {
            "text/plain": [
              "{'B', 'a', 'n'}"
            ]
          },
          "metadata": {},
          "execution_count": 60
        }
      ],
      "source": [
        "set('Banana')"
      ]
    },
    {
      "cell_type": "markdown",
      "metadata": {
        "id": "0831a6e0-ec70-441e-8447-7d0ce3574aae"
      },
      "source": [
        "Another useful data structure is the **dictionary**. Instead of using a sequence of numbers to index the elements (such as lists or tuples), dictionaries are indexed by keys, which could be a string, number or even a tuple. Values are labeled by a unique key and can be any data type.\n",
        "\n",
        "So a dictionary consists of key-value pairs, and each key maps to a corresponding value. "
      ]
    },
    {
      "cell_type": "code",
      "execution_count": null,
      "metadata": {
        "id": "fe167e7e-225e-46a2-b39c-1d24d00b6e25"
      },
      "outputs": [],
      "source": [
        "dict_1 = {34:3, 100:4, 2:2}"
      ]
    },
    {
      "cell_type": "code",
      "source": [
        "dict_1[1]"
      ],
      "metadata": {
        "colab": {
          "base_uri": "https://localhost:8080/",
          "height": 171
        },
        "id": "KqI6AbPI9mA8",
        "outputId": "d460357d-0937-481c-d350-ff2a318111f7"
      },
      "execution_count": null,
      "outputs": [
        {
          "output_type": "error",
          "ename": "KeyError",
          "evalue": "ignored",
          "traceback": [
            "\u001b[0;31m---------------------------------------------------------------------------\u001b[0m",
            "\u001b[0;31mKeyError\u001b[0m                                  Traceback (most recent call last)",
            "\u001b[0;32m<ipython-input-70-d95e8a8dbc2a>\u001b[0m in \u001b[0;36m<module>\u001b[0;34m()\u001b[0m\n\u001b[0;32m----> 1\u001b[0;31m \u001b[0mdict_1\u001b[0m\u001b[0;34m[\u001b[0m\u001b[0;36m1\u001b[0m\u001b[0;34m]\u001b[0m\u001b[0;34m\u001b[0m\u001b[0;34m\u001b[0m\u001b[0m\n\u001b[0m",
            "\u001b[0;31mKeyError\u001b[0m: 1"
          ]
        }
      ]
    },
    {
      "cell_type": "markdown",
      "metadata": {
        "id": "7e237013-a77e-4a67-ba9d-627f3d3a865c"
      },
      "source": [
        "Within a dictionary, elements are stored without order, therefore, you can not access a dictionary based on a sequence of index numbers. To get access to a dictionary, we need to use the key of the element."
      ]
    },
    {
      "cell_type": "code",
      "execution_count": null,
      "metadata": {
        "id": "1b9adb4c-5963-4eb7-ba76-2cffd518fdcf"
      },
      "outputs": [],
      "source": [
        "dict_1['apple']"
      ]
    },
    {
      "cell_type": "markdown",
      "metadata": {
        "id": "c42b6c9d-ea00-4608-afac-ef1d8459dbf9"
      },
      "source": [
        "Keys and values can be listed by corresponding methods"
      ]
    },
    {
      "cell_type": "code",
      "execution_count": null,
      "metadata": {
        "id": "f2479d5f-2b69-4c3e-a8f0-26c1b208488b",
        "colab": {
          "base_uri": "https://localhost:8080/"
        },
        "outputId": "cc09e5fd-da20-4b18-aa98-c0125022c661"
      },
      "outputs": [
        {
          "output_type": "execute_result",
          "data": {
            "text/plain": [
              "dict_keys([34, 100, 2])"
            ]
          },
          "metadata": {},
          "execution_count": 71
        }
      ],
      "source": [
        "dict_1.keys()"
      ]
    },
    {
      "cell_type": "code",
      "execution_count": null,
      "metadata": {
        "id": "7e0aee12-4321-4c7d-8953-34749715c4b4",
        "colab": {
          "base_uri": "https://localhost:8080/"
        },
        "outputId": "7e396e2f-6ee0-469c-fdc8-7e0996dcbc7c"
      },
      "outputs": [
        {
          "output_type": "execute_result",
          "data": {
            "text/plain": [
              "dict_values([3, 4, 2])"
            ]
          },
          "metadata": {},
          "execution_count": 72
        }
      ],
      "source": [
        "dict_1.values()"
      ]
    },
    {
      "cell_type": "markdown",
      "metadata": {
        "id": "e80f03f6-6253-4290-8eb2-2ff6387aec87"
      },
      "source": [
        "Keys and values can have many different data types"
      ]
    },
    {
      "cell_type": "code",
      "execution_count": null,
      "metadata": {
        "id": "43afac1e-30d5-41ca-a012-7c9964637519"
      },
      "outputs": [],
      "source": [
        "a_dict = { 1:'This is the value, for the key 1', 'This is the key for a value 1':1, False:':)', (0,1):256 }"
      ]
    },
    {
      "cell_type": "code",
      "execution_count": null,
      "metadata": {
        "id": "ecd14474-2762-4bdb-8703-1fb0f93f5172",
        "colab": {
          "base_uri": "https://localhost:8080/"
        },
        "outputId": "f7ba246f-12f6-4eb6-c7a0-39deab3c1bef"
      },
      "outputs": [
        {
          "output_type": "execute_result",
          "data": {
            "text/plain": [
              "1"
            ]
          },
          "metadata": {},
          "execution_count": 74
        }
      ],
      "source": [
        "a_dict['This is the key for a value 1']"
      ]
    },
    {
      "cell_type": "markdown",
      "metadata": {
        "id": "64131deb-826a-478f-b5f6-248211053aea"
      },
      "source": [
        "New key/value pairs can be added by just supplying the new value for the new key"
      ]
    },
    {
      "cell_type": "code",
      "execution_count": null,
      "metadata": {
        "id": "56ccfd35-44eb-4ba4-ab5c-ed93b484f926",
        "colab": {
          "base_uri": "https://localhost:8080/"
        },
        "outputId": "4da6a506-dab6-4dd6-d4d1-56b136dcc058"
      },
      "outputs": [
        {
          "output_type": "execute_result",
          "data": {
            "text/plain": [
              "{(0, 1): 256,\n",
              " 1: 'This is the value, for the key 1',\n",
              " False: ':)',\n",
              " 'This is the key for a value 1': 1,\n",
              " 'new key': 'new_value'}"
            ]
          },
          "metadata": {},
          "execution_count": 75
        }
      ],
      "source": [
        "a_dict['new key'] = 'new_value'\n",
        "a_dict"
      ]
    },
    {
      "cell_type": "markdown",
      "metadata": {
        "jp-MarkdownHeadingCollapsed": true,
        "tags": [],
        "id": "129d5c08-ce17-4ef8-b980-55e02d2b5cea"
      },
      "source": [
        "### Loops"
      ]
    },
    {
      "cell_type": "markdown",
      "metadata": {
        "id": "06bd9dd6-418e-41d9-9206-267d84cce0f9"
      },
      "source": [
        "The power of coding comes from **loops** (repetitions) and **conditionals** (choices). There are different ways to construct loops. The most common way is to construct a for loop:\n",
        "\n",
        "```python\n",
        "for variable in list:\n",
        "    do things using variable\n",
        "```\n",
        "- Watch for the colon `:` at the end of a `for` statement.\n",
        "- Watch for the indentation on the second line. \n",
        "\n",
        "Indentation is *very* important in Python. There is no separate statement that closes code blocks such as loops and conditionals. It's all done via indentation. Indentation is with 4 spaces, but advanced editors that understand Python syntax will take care of that for you. "
      ]
    },
    {
      "cell_type": "code",
      "source": [
        "\n",
        "values"
      ],
      "metadata": {
        "colab": {
          "base_uri": "https://localhost:8080/"
        },
        "id": "nIhesLZ2-8hq",
        "outputId": "ae3caaed-2382-4197-c207-42806d59e14d"
      },
      "execution_count": null,
      "outputs": [
        {
          "output_type": "execute_result",
          "data": {
            "text/plain": [
              "[7, 11, 13, 17, 19, 23, 29]"
            ]
          },
          "metadata": {},
          "execution_count": 76
        }
      ]
    },
    {
      "cell_type": "code",
      "execution_count": null,
      "metadata": {
        "id": "49dd79b3-e0d5-4007-9b99-38a58b09b6dd",
        "colab": {
          "base_uri": "https://localhost:8080/"
        },
        "outputId": "9b45c679-3ee3-493e-8ff2-12ca0be4078e"
      },
      "outputs": [
        {
          "output_type": "stream",
          "name": "stdout",
          "text": [
            "[49, 121, 169, 289, 361, 529, 841]\n"
          ]
        }
      ],
      "source": [
        "value_squared = []\n",
        "for value in values:\n",
        "    value_squared.append(value**2)\n",
        "\n",
        "print(value_squared)\n",
        "# try this with different indentations"
      ]
    },
    {
      "cell_type": "markdown",
      "metadata": {
        "id": "3770abfb-49fe-4f06-a11a-791392bfbcc8"
      },
      "source": [
        "To loop over a range of numbers, the syntax is"
      ]
    },
    {
      "cell_type": "code",
      "execution_count": null,
      "metadata": {
        "id": "68e03c35-b4cd-457b-a441-0765863498c8",
        "colab": {
          "base_uri": "https://localhost:8080/"
        },
        "outputId": "17bce52b-e2f5-4cc6-b78c-52dd7d90dba5"
      },
      "outputs": [
        {
          "output_type": "stream",
          "name": "stdout",
          "text": [
            "0\n",
            "1\n",
            "2\n",
            "3\n",
            "4\n",
            "5\n"
          ]
        }
      ],
      "source": [
        "n = 5\n",
        "for j in range(n+1):\n",
        "    print(j)"
      ]
    },
    {
      "cell_type": "markdown",
      "metadata": {
        "id": "59ad10fa-983a-4d0d-8a16-1f8363a5c63f"
      },
      "source": [
        "Note that it starts at 0 (by default), and ends at n-1 for range(n).\n",
        "\n",
        "What is the sum of every integer from 1 to 10?"
      ]
    },
    {
      "cell_type": "code",
      "execution_count": null,
      "metadata": {
        "id": "56c23242-4d06-4b5d-80a6-fe261e6cbf05",
        "colab": {
          "base_uri": "https://localhost:8080/"
        },
        "outputId": "fad2f6b1-947b-474b-d4eb-65c431cb9e44"
      },
      "outputs": [
        {
          "output_type": "stream",
          "name": "stdout",
          "text": [
            "3628800\n"
          ]
        }
      ],
      "source": [
        "n = 1\n",
        "for i in range(1, 11):\n",
        "    n *= i\n",
        "    \n",
        "print(n)"
      ]
    },
    {
      "cell_type": "markdown",
      "metadata": {
        "id": "c32a5c48-ae68-48ba-8e4f-070f17253ec8"
      },
      "source": [
        "List comprehensions allow sequences to be created from other sequence with very compact syntax\n",
        "\n",
        "For example, below we append the square numbers up to 25 in a list."
      ]
    },
    {
      "cell_type": "code",
      "execution_count": null,
      "metadata": {
        "id": "b4f412ed-c6dc-4e4b-a1a6-8aa481e785f3",
        "colab": {
          "base_uri": "https://localhost:8080/"
        },
        "outputId": "3db6e963-b5ec-450d-8a13-c3db6f2de7cd"
      },
      "outputs": [
        {
          "output_type": "execute_result",
          "data": {
            "text/plain": [
              "[1, 4, 9, 16, 25]"
            ]
          },
          "metadata": {},
          "execution_count": 90
        }
      ],
      "source": [
        "y = []\n",
        "for i in range(1, 6):\n",
        "    y.append(i**2)\n",
        "y"
      ]
    },
    {
      "cell_type": "markdown",
      "metadata": {
        "id": "53b26f51-2bed-4911-9562-6bdb3d490b41"
      },
      "source": [
        "With list comprehension, we can write this as"
      ]
    },
    {
      "cell_type": "code",
      "execution_count": null,
      "metadata": {
        "id": "3fdac57d-878c-45fa-80f7-9235347e4618",
        "colab": {
          "base_uri": "https://localhost:8080/"
        },
        "outputId": "3701fdb8-3151-41d8-816d-d4ede9828708"
      },
      "outputs": [
        {
          "output_type": "execute_result",
          "data": {
            "text/plain": [
              "[1, 4, 9, 16, 25]"
            ]
          },
          "metadata": {},
          "execution_count": 91
        }
      ],
      "source": [
        "y = [i**2 for i in range(1, 6)]\n",
        "y"
      ]
    },
    {
      "cell_type": "markdown",
      "metadata": {
        "jp-MarkdownHeadingCollapsed": true,
        "tags": [],
        "id": "35aa4aed-5f7c-4ddc-8b29-1f33e177154c"
      },
      "source": [
        "### Conditional statements"
      ]
    },
    {
      "cell_type": "markdown",
      "metadata": {
        "id": "ff4ef5c6-3a32-46fb-bd72-61c424fce64c"
      },
      "source": [
        "A conditional statement is a code construct that executes blocks of code only if certain conditions are met. These conditions are represented as logical expressions.\n",
        "\n",
        "```python\n",
        "if logical expression:\n",
        "    code block\n",
        "```\n",
        "\n",
        "The word `if` is a keyword. When Python sees an if-statement, it will determine if the associated logical expression is true. If it is true, then the code in code block will be executed. If it is false, then the code in the if-statement will not be executed. The way to read this is “If logical expression is true then do code block.”"
      ]
    },
    {
      "cell_type": "code",
      "execution_count": null,
      "metadata": {
        "id": "496cc686-7a41-43a0-8102-f299d73ed254",
        "colab": {
          "base_uri": "https://localhost:8080/"
        },
        "outputId": "0587b14d-52d8-4467-bdd4-55531d0037ea"
      },
      "outputs": [
        {
          "output_type": "execute_result",
          "data": {
            "text/plain": [
              "['apple', 1, 1000000.0, [1, 1], True, None, 3.14]"
            ]
          },
          "metadata": {},
          "execution_count": 92
        }
      ],
      "source": [
        "mixed_list"
      ]
    },
    {
      "cell_type": "code",
      "execution_count": null,
      "metadata": {
        "id": "5be30e75-b8c1-4354-ac81-15fd25ab56c5"
      },
      "outputs": [],
      "source": [
        "mixed_list.append('banana')"
      ]
    },
    {
      "cell_type": "code",
      "execution_count": null,
      "metadata": {
        "id": "4828a556-7211-4bda-a421-54c9839e7dac",
        "colab": {
          "base_uri": "https://localhost:8080/"
        },
        "outputId": "6a98304e-9512-4405-d2da-1d8ca62370a5"
      },
      "outputs": [
        {
          "output_type": "stream",
          "name": "stdout",
          "text": [
            "We have a fruit!\n"
          ]
        }
      ],
      "source": [
        "if 'apple' in mixed_list or 'banana' in mixed_list:\n",
        "    print('We have a fruit!')\n",
        "else:\n",
        "    print('There is no apple')"
      ]
    },
    {
      "cell_type": "markdown",
      "metadata": {
        "id": "42bb3d92-2919-45ae-88d5-1ca22f978180"
      },
      "source": [
        "What will be the value of y after the code is executed?"
      ]
    },
    {
      "cell_type": "code",
      "execution_count": null,
      "metadata": {
        "id": "8c55af07-876f-4056-ac35-b3a155b47e7a",
        "colab": {
          "base_uri": "https://localhost:8080/"
        },
        "outputId": "9096d942-f99b-43b1-84b8-f796b1067436"
      },
      "outputs": [
        {
          "output_type": "stream",
          "name": "stdout",
          "text": [
            "2\n"
          ]
        }
      ],
      "source": [
        "x = 3\n",
        "if x > 1:\n",
        "    y = 2\n",
        "elif x > 2:\n",
        "    y = 4\n",
        "else:\n",
        "    y = 0\n",
        "print(y)"
      ]
    },
    {
      "cell_type": "markdown",
      "metadata": {
        "id": "7953f985-2bbc-457c-bb1c-ccfff7506d5e"
      },
      "source": [
        "You can use if statements in a concise way (ternary operators)"
      ]
    },
    {
      "cell_type": "code",
      "execution_count": null,
      "metadata": {
        "id": "b59c8b4e-426b-4a04-b308-94e92239f9e0",
        "colab": {
          "base_uri": "https://localhost:8080/"
        },
        "outputId": "f4ac90c8-1a73-4d22-d5bc-3e7289e81141"
      },
      "outputs": [
        {
          "output_type": "stream",
          "name": "stdout",
          "text": [
            "student\n"
          ]
        }
      ],
      "source": [
        "is_student = True\n",
        "person = 'student' if is_student else 'not student'\n",
        "print(person)"
      ]
    },
    {
      "cell_type": "markdown",
      "metadata": {
        "id": "ef3a8961-7c4b-4ae1-9750-b89ad37d5dd4"
      },
      "source": [
        "This is equivalent to "
      ]
    },
    {
      "cell_type": "code",
      "execution_count": null,
      "metadata": {
        "id": "ef65ef94-167a-44ac-b967-547f517254b7",
        "colab": {
          "base_uri": "https://localhost:8080/"
        },
        "outputId": "e5c11083-c10a-4079-cc17-75b00216f6a7"
      },
      "outputs": [
        {
          "output_type": "stream",
          "name": "stdout",
          "text": [
            "student\n"
          ]
        }
      ],
      "source": [
        "is_student = True\n",
        "if is_student:\n",
        "    person = 'student'\n",
        "else:\n",
        "    person = 'not student'\n",
        "print(person)"
      ]
    },
    {
      "cell_type": "markdown",
      "source": [
        "## 3. Differences from MATLAB\n",
        "<a id='matlab'></a>"
      ],
      "metadata": {
        "id": "NgvJhSNNoqWO"
      }
    },
    {
      "cell_type": "markdown",
      "source": [
        "Commenting:\n"
      ],
      "metadata": {
        "id": "ohHriR5hsnhM"
      }
    },
    {
      "cell_type": "code",
      "source": [
        "# This is a comment\n",
        "% This is not a comment"
      ],
      "metadata": {
        "colab": {
          "base_uri": "https://localhost:8080/"
        },
        "id": "zEYxNATGtRli",
        "outputId": "b3571b56-e090-4c87-fe76-eb4c7099eddc"
      },
      "execution_count": null,
      "outputs": [
        {
          "output_type": "stream",
          "name": "stderr",
          "text": [
            "UsageError: Line magic function `%` not found.\n"
          ]
        }
      ]
    },
    {
      "cell_type": "markdown",
      "source": [
        "Printing:\n",
        "Just one print function, instead of disp(), fprintf(), and sprintf()"
      ],
      "metadata": {
        "id": "KX8LgpyWttP9"
      }
    },
    {
      "cell_type": "code",
      "source": [
        "print(\"Hello, World!\")"
      ],
      "metadata": {
        "colab": {
          "base_uri": "https://localhost:8080/"
        },
        "id": "op4MHy1XtnA2",
        "outputId": "d8d713a5-9d01-49aa-dd19-17365e1f824a"
      },
      "execution_count": null,
      "outputs": [
        {
          "output_type": "stream",
          "name": "stdout",
          "text": [
            "Hello, World!\n"
          ]
        }
      ]
    },
    {
      "cell_type": "markdown",
      "source": [
        "Index:\n",
        "The first element in Python begins with 0, in MATLAB, the first element is 1. "
      ],
      "metadata": {
        "id": "6XUHAJOKstVJ"
      }
    },
    {
      "cell_type": "code",
      "source": [
        "example_list = [1,2,3,4]\n",
        "print(example_list[0])\n",
        "print(example_list[1])"
      ],
      "metadata": {
        "colab": {
          "base_uri": "https://localhost:8080/"
        },
        "id": "NxTAFRLis27C",
        "outputId": "0f4e3c83-08dd-41c1-9925-d5d16223206d"
      },
      "execution_count": null,
      "outputs": [
        {
          "output_type": "stream",
          "name": "stdout",
          "text": [
            "1\n",
            "2\n"
          ]
        }
      ]
    },
    {
      "cell_type": "markdown",
      "source": [
        "You can access the last element with the index [-1], equivalent to (end) in MATLAB."
      ],
      "metadata": {
        "id": "JQJ-ShTJtBJv"
      }
    },
    {
      "cell_type": "code",
      "source": [
        "print(example_list[-1])"
      ],
      "metadata": {
        "colab": {
          "base_uri": "https://localhost:8080/"
        },
        "id": "8DMuXcSbtG_6",
        "outputId": "d29933ac-c61c-46f8-8255-2f4001e8054f"
      },
      "execution_count": null,
      "outputs": [
        {
          "output_type": "stream",
          "name": "stdout",
          "text": [
            "4\n"
          ]
        }
      ]
    },
    {
      "cell_type": "markdown",
      "source": [
        "Exponentiation:"
      ],
      "metadata": {
        "id": "9F1zX1kptLhL"
      }
    },
    {
      "cell_type": "code",
      "source": [
        "print(9^2)\n",
        "print(9**2)"
      ],
      "metadata": {
        "colab": {
          "base_uri": "https://localhost:8080/"
        },
        "id": "KxNsjCVftNAp",
        "outputId": "03105966-03df-4416-b3f3-f6139dd68187"
      },
      "execution_count": null,
      "outputs": [
        {
          "output_type": "stream",
          "name": "stdout",
          "text": [
            "11\n",
            "81\n"
          ]
        }
      ]
    },
    {
      "cell_type": "markdown",
      "source": [],
      "metadata": {
        "id": "ju3ByTSSs2lg"
      }
    },
    {
      "cell_type": "markdown",
      "source": [
        "## 4. What is a function\n",
        "<a id='function'></a>\n"
      ],
      "metadata": {
        "id": "o8EVCu1SnMJZ"
      }
    },
    {
      "cell_type": "markdown",
      "metadata": {
        "id": "8a9f7f12-c104-4615-8da4-48b668d0c08a"
      },
      "source": [
        "In mathematics, functions are maps. They assign an element from their domain (inputs) to exactly one element in their range (outputs). In programming, a function is a sequence of instructions that performs a specific task. Functions break up our code into smaller, more easily understandable statements, and also allow code to be modular.\n",
        "\n",
        "For example, the `math.sin` function in Python is a set of tasks (i.e., mathematical operations) that computes an approximation for $\\sin x$. Rather than having to retype or copy these instructions every time you want to use the sin function, it is useful to store this sequence of instruction as a function that you can call over and over again.\n",
        "\n",
        "In general, each function should perform only one computational task.\n",
        "\n",
        "Here's the pseudocode for a function definition:\n",
        "```python\n",
        "def function_name(parameters):\n",
        "    \"\"\" documentation\"\"\"\n",
        "    ** function body code **\n",
        "    return output\n",
        "```\n",
        "\n",
        "- Keyword `def`,\n",
        "- Function name,\n",
        "- Arguments,\n",
        "- A colon to mark the end of the function header.\n",
        "- Documentation to describe what the function does,\n",
        "- Statements at the same indentation level (4 spaces, tab)\n",
        "- Return statement for the value\n",
        "\n",
        "Python has about 70 built-in functions (such as len or print). A Python package such as numpy includes hundreds of functions.\n",
        "\n",
        "You can and should define your own functions."
      ]
    },
    {
      "cell_type": "code",
      "execution_count": null,
      "metadata": {
        "id": "7fd8c8a3-ff05-4aa5-9fe6-c2f18523e2f7",
        "colab": {
          "base_uri": "https://localhost:8080/"
        },
        "outputId": "a249c13d-dc54-4b18-c56c-99233182f890"
      },
      "outputs": [
        {
          "output_type": "execute_result",
          "data": {
            "text/plain": [
              "builtin_function_or_method"
            ]
          },
          "metadata": {},
          "execution_count": 98
        }
      ],
      "source": [
        "type(len)"
      ]
    },
    {
      "cell_type": "code",
      "execution_count": null,
      "metadata": {
        "id": "834da1d0-aab4-456b-a9fb-a12566b1d36f"
      },
      "outputs": [],
      "source": [
        "len?"
      ]
    },
    {
      "cell_type": "code",
      "execution_count": null,
      "metadata": {
        "id": "098d409b-89d2-4903-9555-2747c5da43c5"
      },
      "outputs": [],
      "source": [
        "def greet(name):\n",
        "    print(\"Hello, \" + name + \". Good morning!\")"
      ]
    },
    {
      "cell_type": "code",
      "execution_count": null,
      "metadata": {
        "id": "414ba957-cf1b-4430-8f9a-71d1b260415b",
        "colab": {
          "base_uri": "https://localhost:8080/"
        },
        "outputId": "70c817e5-c2b5-4c9e-a89e-3eca7b22f18a"
      },
      "outputs": [
        {
          "output_type": "stream",
          "name": "stdout",
          "text": [
            "Hello, 1. Good morning!\n"
          ]
        }
      ],
      "source": [
        "greet('1')"
      ]
    },
    {
      "cell_type": "code",
      "execution_count": null,
      "metadata": {
        "id": "9669d6bd-ae80-426c-9f01-511dd7ed3b76"
      },
      "outputs": [],
      "source": [
        "help(greet)"
      ]
    },
    {
      "cell_type": "markdown",
      "metadata": {
        "id": "d840ac92-6f59-4dbc-80b1-ac71d38f02be"
      },
      "source": [
        "Include some documentation in your functions. \n",
        "\n",
        "```python\n",
        "def greet(name):\n",
        "    \"\"\"This function greets a person by name\"\"\"\n",
        "    print(\"Hello, \" + name + \". Good morning!\")\n",
        "```"
      ]
    },
    {
      "cell_type": "code",
      "execution_count": null,
      "metadata": {
        "id": "08eb7161-8beb-4ad3-a82a-3ea548c2eced"
      },
      "outputs": [],
      "source": [
        "def greet(name):\n",
        "    \"\"\"\n",
        "    This function greets a person by name\n",
        "\n",
        "    Args:\n",
        "        name (str): The name of person that is greeted.\n",
        "\n",
        "    Returns:\n",
        "        str: Personalized greeting that includes name\n",
        "    \"\"\"\n",
        "    print(\"Hello, \" + name + \". Good morning!\")"
      ]
    },
    {
      "cell_type": "code",
      "execution_count": null,
      "metadata": {
        "id": "4c76a096-dadf-4851-a74c-2f980dd39b7e",
        "colab": {
          "base_uri": "https://localhost:8080/"
        },
        "outputId": "9ac7d6cb-daa3-4db4-cd2c-378d2d6388bf"
      },
      "outputs": [
        {
          "output_type": "stream",
          "name": "stdout",
          "text": [
            "Help on function greet in module __main__:\n",
            "\n",
            "greet(name)\n",
            "    This function greets a person by name\n",
            "    \n",
            "    Args:\n",
            "        name (str): The name of person that is greeted.\n",
            "    \n",
            "    Returns:\n",
            "        str: Personalized greeting that includes name\n",
            "\n"
          ]
        }
      ],
      "source": [
        "help(greet)"
      ]
    },
    {
      "cell_type": "markdown",
      "metadata": {
        "id": "a81fd631-b59b-4455-abcb-ae186b9e1868"
      },
      "source": [
        "Define a function that adds three numbers"
      ]
    },
    {
      "cell_type": "code",
      "execution_count": null,
      "metadata": {
        "id": "7054c8fb-bf4d-47ea-b628-c2332be608b7"
      },
      "outputs": [],
      "source": [
        "def triple_adder(a, b, c):\n",
        "    \"\"\"\n",
        "    This function sums up 3 numbers\n",
        "\n",
        "    Args:\n",
        "        a, b, c: Three numbers to be added\n",
        "\n",
        "    Returns:\n",
        "        out: The result of a+b+c\n",
        "    \"\"\"\n",
        "    # Sum the inputs together\n",
        "    out = a + b + c\n",
        "    \n",
        "    return out"
      ]
    },
    {
      "cell_type": "code",
      "execution_count": null,
      "metadata": {
        "id": "1891e32e-0919-481f-935d-504aeeee9eaf",
        "colab": {
          "base_uri": "https://localhost:8080/"
        },
        "outputId": "ee16b368-ba53-4894-92ea-3afbc1a22e8b"
      },
      "outputs": [
        {
          "output_type": "execute_result",
          "data": {
            "text/plain": [
              "6"
            ]
          },
          "metadata": {},
          "execution_count": 107
        }
      ],
      "source": [
        "triple_adder(1,2,3)"
      ]
    },
    {
      "cell_type": "markdown",
      "metadata": {
        "id": "9219d959-bcc4-49bd-8eff-654d57f3ff37"
      },
      "source": [
        "The code doesn't check for the type of input and will try to add whatever we give"
      ]
    },
    {
      "cell_type": "code",
      "execution_count": null,
      "metadata": {
        "id": "d2d75829-3523-4e95-980b-67a76010aae9",
        "colab": {
          "base_uri": "https://localhost:8080/"
        },
        "outputId": "9c652d7b-7657-4291-ada6-aedd21b4ed91"
      },
      "outputs": [
        {
          "output_type": "execute_result",
          "data": {
            "text/plain": [
              "(6.2+1j)"
            ]
          },
          "metadata": {},
          "execution_count": 108
        }
      ],
      "source": [
        "triple_adder(1,1.2,4+1j)"
      ]
    },
    {
      "cell_type": "code",
      "execution_count": null,
      "metadata": {
        "id": "94fefcd3-6857-4cbf-8931-7a3e8741c267"
      },
      "outputs": [],
      "source": [
        "out=10"
      ]
    },
    {
      "cell_type": "code",
      "execution_count": null,
      "metadata": {
        "id": "ae69df40-2ce2-4506-9067-f294e93422a4",
        "colab": {
          "base_uri": "https://localhost:8080/",
          "height": 36
        },
        "outputId": "3ab3f5b8-7373-4e37-afc6-6c5251bf1402"
      },
      "outputs": [
        {
          "output_type": "execute_result",
          "data": {
            "text/plain": [
              "'Python is great!'"
            ],
            "application/vnd.google.colaboratory.intrinsic+json": {
              "type": "string"
            }
          },
          "metadata": {},
          "execution_count": 110
        }
      ],
      "source": [
        "triple_adder('Python ', 'is ', 'great!')"
      ]
    },
    {
      "cell_type": "markdown",
      "metadata": {
        "id": "fe0ad010-12b1-4f77-89d6-6b7d6e422727"
      },
      "source": [
        "Parameters and variables defined inside a function are not visible from outside the function. Hence, they have a local scope.\n",
        "\n",
        "A function does not remember the value of a variable from its previous calls.\n",
        "\n",
        "Here is an example to illustrate the scope of a variable inside a function."
      ]
    },
    {
      "cell_type": "code",
      "execution_count": null,
      "metadata": {
        "id": "cc9076d3-8f36-4688-8757-950ecd4e6851",
        "colab": {
          "base_uri": "https://localhost:8080/"
        },
        "outputId": "ad9859e0-e170-4b79-d920-4e5c4336f253"
      },
      "outputs": [
        {
          "output_type": "stream",
          "name": "stdout",
          "text": [
            "Value inside function: 10\n",
            "Value outside function: 20\n"
          ]
        }
      ],
      "source": [
        "# Note the indentation\n",
        "def some_func():\n",
        "    x = 10\n",
        "    print(\"Value inside function:\",x)\n",
        "\n",
        "x = 20\n",
        "some_func()\n",
        "print(\"Value outside function:\",x)"
      ]
    },
    {
      "cell_type": "markdown",
      "metadata": {
        "id": "44f74db4-7d06-4bda-9b05-6a4bee0ccbec"
      },
      "source": [
        "You can change the values of variables outside the function using the `global` keyword."
      ]
    },
    {
      "cell_type": "code",
      "execution_count": null,
      "metadata": {
        "id": "37d48636-f186-4b07-ae51-f462e360aef0",
        "colab": {
          "base_uri": "https://localhost:8080/"
        },
        "outputId": "78fbb66c-16fb-4e9e-a83e-bc3994e9fd86"
      },
      "outputs": [
        {
          "output_type": "stream",
          "name": "stdout",
          "text": [
            "The meaning of life is 42.\n",
            "Within my world, meaning of life was 42.\n",
            "But the meaning of life changed to 1.\n",
            "Outside my world, meaning of life is now 1.\n"
          ]
        }
      ],
      "source": [
        "meaning_of_life = 42\n",
        "\n",
        "print(f'The meaning of life is {meaning_of_life}.')\n",
        "\n",
        "def my_world():\n",
        "    global meaning_of_life\n",
        "    print(f'Within my world, meaning of life was {meaning_of_life}.')\n",
        "    meaning_of_life = 1\n",
        "    print(f'But the meaning of life changed to {meaning_of_life}.')\n",
        "\n",
        "my_world()\n",
        "print(f'Outside my world, meaning of life is now {meaning_of_life}.')"
      ]
    },
    {
      "cell_type": "markdown",
      "source": [
        "## 5. Python Quirks\n",
        "<a id='quirks'></a>"
      ],
      "metadata": {
        "id": "7a0CaL5aovTL"
      }
    },
    {
      "cell_type": "markdown",
      "source": [
        "Mutable variables are pointers"
      ],
      "metadata": {
        "id": "P4Lz6k5aqusy"
      }
    },
    {
      "cell_type": "code",
      "source": [
        "a = 10\n",
        "b = a\n",
        "\n",
        "print('a = ', a)\n",
        "print('b = ', b)"
      ],
      "metadata": {
        "colab": {
          "base_uri": "https://localhost:8080/"
        },
        "id": "Rpv9SM9Jovj2",
        "outputId": "9e32ca88-a280-4643-a43e-8165e795b328"
      },
      "execution_count": null,
      "outputs": [
        {
          "output_type": "stream",
          "name": "stdout",
          "text": [
            "a =  10\n",
            "b =  10\n"
          ]
        }
      ]
    },
    {
      "cell_type": "code",
      "source": [
        "a = a + 1\n",
        "\n",
        "print('a = ', a)\n",
        "print('b = ', b)"
      ],
      "metadata": {
        "colab": {
          "base_uri": "https://localhost:8080/"
        },
        "id": "7RE-m5DZq3NJ",
        "outputId": "92148abf-44d2-4554-c635-e4183f87c4eb"
      },
      "execution_count": null,
      "outputs": [
        {
          "output_type": "stream",
          "name": "stdout",
          "text": [
            "a =  11\n",
            "b =  10\n"
          ]
        }
      ]
    },
    {
      "cell_type": "code",
      "source": [
        "x = [1, 2, 3]\n",
        "y = x\n",
        "\n",
        "print('x = ', x)\n",
        "print('y = ', y)"
      ],
      "metadata": {
        "colab": {
          "base_uri": "https://localhost:8080/"
        },
        "id": "eIVjYt4wq4lB",
        "outputId": "3fac7925-eefa-4b0a-ac4d-fec7d9994915"
      },
      "execution_count": null,
      "outputs": [
        {
          "output_type": "stream",
          "name": "stdout",
          "text": [
            "x =  [1, 2, 3]\n",
            "y =  [1, 2, 3]\n"
          ]
        }
      ]
    },
    {
      "cell_type": "code",
      "source": [
        "x.append(4)\n",
        "\n",
        "print('x = ', x)"
      ],
      "metadata": {
        "colab": {
          "base_uri": "https://localhost:8080/"
        },
        "id": "YZILM90hq6Ka",
        "outputId": "139898c5-0980-490a-dec3-8725a70b9c2a"
      },
      "execution_count": null,
      "outputs": [
        {
          "output_type": "stream",
          "name": "stdout",
          "text": [
            "x =  [1, 2, 3, 4]\n"
          ]
        }
      ]
    },
    {
      "cell_type": "code",
      "source": [
        "print('y = ', y)"
      ],
      "metadata": {
        "colab": {
          "base_uri": "https://localhost:8080/"
        },
        "id": "eV_gtRvQq6vo",
        "outputId": "433d35d9-c5d4-4760-d019-2de8dd62eaad"
      },
      "execution_count": null,
      "outputs": [
        {
          "output_type": "stream",
          "name": "stdout",
          "text": [
            "y =  [1, 2, 3, 4]\n"
          ]
        }
      ]
    },
    {
      "cell_type": "markdown",
      "source": [
        "Global vs local variables"
      ],
      "metadata": {
        "id": "-e0hwWFuq-Xt"
      }
    },
    {
      "cell_type": "code",
      "source": [
        "x = 2\n",
        "\n",
        "def myfunc(y):\n",
        "  #x = 10\n",
        "  result = x + y\n",
        "  return result"
      ],
      "metadata": {
        "id": "Jmpwm2pFrAid"
      },
      "execution_count": null,
      "outputs": []
    },
    {
      "cell_type": "code",
      "source": [
        "myfunc(3)"
      ],
      "metadata": {
        "colab": {
          "base_uri": "https://localhost:8080/"
        },
        "id": "wNNeXmM7rBfc",
        "outputId": "328feedc-300f-4446-aaa4-9f226de89e68"
      },
      "execution_count": null,
      "outputs": [
        {
          "output_type": "execute_result",
          "data": {
            "text/plain": [
              "5"
            ]
          },
          "metadata": {},
          "execution_count": 22
        }
      ]
    },
    {
      "cell_type": "code",
      "source": [
        "x = 10"
      ],
      "metadata": {
        "id": "hw3XuUtjrBTN"
      },
      "execution_count": null,
      "outputs": []
    },
    {
      "cell_type": "code",
      "source": [
        "myfunc(3)"
      ],
      "metadata": {
        "colab": {
          "base_uri": "https://localhost:8080/"
        },
        "id": "thCA1Q9QrBAB",
        "outputId": "49095d96-e42b-496d-94b9-8817b79e6de3"
      },
      "execution_count": null,
      "outputs": [
        {
          "output_type": "execute_result",
          "data": {
            "text/plain": [
              "13"
            ]
          },
          "metadata": {},
          "execution_count": 24
        }
      ]
    },
    {
      "cell_type": "markdown",
      "source": [
        "Functions in python are callable objects. Avoid using mutable variables as default arguements, as they give your function state, which can vary behavior of the function from call to call."
      ],
      "metadata": {
        "id": "5iTNichrrkGE"
      }
    },
    {
      "cell_type": "code",
      "source": [
        "# default arguement\n",
        "\n",
        "def foo(a=2):\n",
        "  a = a + 1\n",
        "  return a"
      ],
      "metadata": {
        "id": "NGuBQXeNroJy"
      },
      "execution_count": null,
      "outputs": []
    },
    {
      "cell_type": "code",
      "source": [
        "foo()"
      ],
      "metadata": {
        "id": "IA3xqaikrspS"
      },
      "execution_count": null,
      "outputs": []
    },
    {
      "cell_type": "code",
      "source": [
        "foo(5)"
      ],
      "metadata": {
        "id": "Cu0WGx_Orsc4"
      },
      "execution_count": null,
      "outputs": []
    },
    {
      "cell_type": "code",
      "source": [
        "# list as a default arguement\n",
        "\n",
        "def foo_list(a=[]):\n",
        "  a.append(5)\n",
        "  return a"
      ],
      "metadata": {
        "id": "FEm72o3xrsVj"
      },
      "execution_count": null,
      "outputs": []
    },
    {
      "cell_type": "code",
      "source": [
        "foo_list()"
      ],
      "metadata": {
        "id": "Kf9L4TiIrsOx"
      },
      "execution_count": null,
      "outputs": []
    },
    {
      "cell_type": "code",
      "source": [
        "foo_list()"
      ],
      "metadata": {
        "id": "5lHkIfo7rsG4"
      },
      "execution_count": null,
      "outputs": []
    },
    {
      "cell_type": "code",
      "source": [
        "class Foo_List:\n",
        "\n",
        "  def __init__(self, a=[]):\n",
        "    self.a = a\n",
        "  \n",
        "  def __call__(self):\n",
        "    self.a.append(5)\n",
        "    return self.a"
      ],
      "metadata": {
        "id": "EF0D_w30rr5m"
      },
      "execution_count": null,
      "outputs": []
    },
    {
      "cell_type": "code",
      "source": [
        "f = Foo_List()"
      ],
      "metadata": {
        "id": "kumESbevrozR"
      },
      "execution_count": null,
      "outputs": []
    },
    {
      "cell_type": "code",
      "source": [
        "f()"
      ],
      "metadata": {
        "id": "1rFQykGIroqE"
      },
      "execution_count": null,
      "outputs": []
    },
    {
      "cell_type": "markdown",
      "source": [
        "Operator chaining"
      ],
      "metadata": {
        "id": "7D8BVkZHr51r"
      }
    },
    {
      "cell_type": "code",
      "source": [
        "False == False in [False]"
      ],
      "metadata": {
        "id": "vpCnwdSNr8fj"
      },
      "execution_count": null,
      "outputs": []
    },
    {
      "cell_type": "code",
      "source": [
        "20 > 10 > 5"
      ],
      "metadata": {
        "id": "0I2sm1j_r8JO"
      },
      "execution_count": null,
      "outputs": []
    },
    {
      "cell_type": "markdown",
      "source": [
        "Tuple"
      ],
      "metadata": {
        "id": "_nIsnMwusA-p"
      }
    },
    {
      "cell_type": "code",
      "source": [
        "a = ('str1')\n",
        "print(a)"
      ],
      "metadata": {
        "id": "m9_atLNxsC0M"
      },
      "execution_count": null,
      "outputs": []
    },
    {
      "cell_type": "code",
      "source": [
        "a = ('str1',)\n",
        "print(a)"
      ],
      "metadata": {
        "id": "GEuTA7U1sDMU"
      },
      "execution_count": null,
      "outputs": []
    },
    {
      "cell_type": "code",
      "source": [
        "a = 'str1',\n",
        "print(a)"
      ],
      "metadata": {
        "id": "AleTlR3EsDFB"
      },
      "execution_count": null,
      "outputs": []
    },
    {
      "cell_type": "code",
      "source": [
        "a = ('str1' 'str2')\n",
        "print(a)"
      ],
      "metadata": {
        "id": "YDVx3t1ssC9N"
      },
      "execution_count": null,
      "outputs": []
    },
    {
      "cell_type": "markdown",
      "source": [
        "## 6. Exercises\n",
        "<a id='excercises'></a>"
      ],
      "metadata": {
        "id": "26GPU4UTozpp"
      }
    },
    {
      "cell_type": "markdown",
      "source": [
        "1. Check if 'Python' is in the string 'Python is great!'."
      ],
      "metadata": {
        "id": "aM3T72S7o65Q"
      }
    },
    {
      "cell_type": "markdown",
      "source": [
        "2. Get the last word 'great' from 'Python is great!'"
      ],
      "metadata": {
        "id": "JayngBOmo_e3"
      }
    },
    {
      "cell_type": "markdown",
      "source": [
        "3. Turn 'Python is great!' into a list."
      ],
      "metadata": {
        "id": "zVeUIOAUo_wU"
      }
    },
    {
      "cell_type": "markdown",
      "source": [
        "4. Compute sin(87°)."
      ],
      "metadata": {
        "id": "oEUAItofpABW"
      }
    },
    {
      "cell_type": "markdown",
      "source": [
        "5. Write a Python statement that generates the following error: \"TypeError:math.sin() takes exactly one argument (0 given)\"."
      ],
      "metadata": {
        "id": "mNi30TNzpAUs"
      }
    },
    {
      "cell_type": "markdown",
      "source": [
        "6. Compute the surface area and volume of a cylinder from given radius and height. Make it a function."
      ],
      "metadata": {
        "id": "iWBw3gp3pAkl"
      }
    },
    {
      "cell_type": "markdown",
      "source": [
        "7. Compute the slope between two points $p1=(x_1,y_1)$ and $p_2=(x_2,y_2)$. Recall that the slope between two such points is \n",
        "$ \\frac{y_2−y_1}{x_2−x_1}$. Make it a function."
      ],
      "metadata": {
        "id": "bdw_r9ZLpB6Z"
      }
    },
    {
      "cell_type": "markdown",
      "source": [
        "8. Compute the distance between two points as above. Recall that the distance between points in two dimensions is $\\sqrt{(x_2−x_1)^2+(y_2-y_1)^2}$. Make it a function.\n"
      ],
      "metadata": {
        "id": "gacOA0DepB3T"
      }
    },
    {
      "cell_type": "markdown",
      "source": [
        "9. Generate an array with size 100 evenly spaced between -10 to 10."
      ],
      "metadata": {
        "id": "3acFaAEypBZ9"
      }
    },
    {
      "cell_type": "markdown",
      "source": [
        "10. Consider a triangle with vertices at (0,0), (1,0), and (0,1). Write a function `my_inside_triangle(x,y)` where the output is the string 'outside' if the point (x,y) is outside of the triangle, 'border' if the point is exactly on the border of the triangle, and 'inside' if the point is on the inside of the triangle."
      ],
      "metadata": {
        "id": "5iE6KewqpBOU"
      }
    }
  ]
}